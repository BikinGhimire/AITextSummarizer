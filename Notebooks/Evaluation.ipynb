{
 "cells": [
  {
   "cell_type": "code",
   "execution_count": 43,
   "id": "2e822ee8",
   "metadata": {},
   "outputs": [
    {
     "name": "stdout",
     "output_type": "stream",
     "text": [
      "Using Mac GPU (MPS)\n"
     ]
    }
   ],
   "source": [
    "import os\n",
    "import re\n",
    "import torch\n",
    "import pandas as pd\n",
    "import numpy as np\n",
    "import evaluate\n",
    "from transformers import AutoTokenizer, AutoModelForSeq2SeqLM\n",
    "import pickle\n",
    "from tqdm import tqdm\n",
    "import torch.nn as nn\n",
    "import matplotlib.pyplot as plt\n",
    "import numpy as np\n",
    "\n",
    "# Apply tqdm to all .apply() functions by using progress_apply\n",
    "tqdm.pandas()\n",
    "\n",
    "\n",
    "# ============\n",
    "# Define device\n",
    "# ============\n",
    "if torch.cuda.is_available():\n",
    "    device = torch.device(\"cuda\")\n",
    "    print(\"Using NVIDIA GPU (CUDA)\")\n",
    "elif torch.backends.mps.is_available():\n",
    "    device = torch.device(\"mps\")\n",
    "    print(\"Using Mac GPU (MPS)\")\n",
    "else:\n",
    "    device = torch.device(\"cpu\")\n",
    "    print(\"Using CPU\")"
   ]
  },
  {
   "cell_type": "code",
   "execution_count": 44,
   "id": "413dbcc1",
   "metadata": {},
   "outputs": [],
   "source": [
    "# ============\n",
    "# Helper Functions and Definitions for the LSTM with Attention model\n",
    "# ============\n",
    "\n",
    "# (Re)define the special tokens (make sure these match what was used during training)\n",
    "PAD_TOKEN, SOS_TOKEN, EOS_TOKEN, UNK_TOKEN = \"<PAD>\", \"<SOS>\", \"<EOS>\", \"<UNK>\"\n",
    "\n",
    "\n",
    "# Load the vocab dictionary from 'vocab.pkl'\n",
    "with open('../saved_models/lstm/vocab.pkl', 'rb') as f:\n",
    "    vocab = pickle.load(f)\n",
    "\n",
    "\n",
    "# Build reverse vocabulary for decoding token ids back to words.\n",
    "reverse_vocab = {idx: word for word, idx in vocab.items()}\n",
    "\n",
    "# Maximum sequence lengths (use the same values as in training)\n",
    "MAX_ARTICLE_LEN = 400\n",
    "MAX_SUMMARY_LEN = 100\n",
    "\n",
    "# Text cleaning and tokenization function for the LSTM model:\n",
    "def text_to_sequence(text, max_len, add_eos=False):\n",
    "    words = text.lower().split()\n",
    "    if add_eos:\n",
    "        words = words + [EOS_TOKEN]  # append EOS\n",
    "    # Truncate if too long\n",
    "    if len(words) > max_len:\n",
    "        words = words[:max_len]\n",
    "        if add_eos and words[-1] != EOS_TOKEN:\n",
    "            words[-1] = EOS_TOKEN  # ensure it ends with EOS if truncated\n",
    "    # Convert to ids, use UNK if not in vocab\n",
    "    seq = [vocab.get(w, vocab[UNK_TOKEN]) for w in words]\n",
    "    # Pad sequence to max_len with PAD token\n",
    "    if len(seq) < max_len:\n",
    "        seq += [vocab[PAD_TOKEN]] * (max_len - len(seq))\n",
    "    return seq\n",
    "\n",
    "# Define a greedy decoding function for your custom LSTM with attention.\n",
    "def generate_summary_lstm(article_text, encoder, decoder, max_article_len, max_summary_len):\n",
    "    # Convert the input article text to sequence form.\n",
    "    seq = text_to_sequence(article_text, max_article_len, add_eos=False)\n",
    "    src_tensor = torch.tensor(seq, dtype=torch.long).unsqueeze(0).to(device)\n",
    "    \n",
    "    encoder.eval()\n",
    "    decoder.eval()\n",
    "    \n",
    "    with torch.no_grad():\n",
    "        enc_outputs, hidden, cell = encoder(src_tensor)\n",
    "        # Start with the SOS token.\n",
    "        dec_input = torch.tensor([vocab[SOS_TOKEN]], dtype=torch.long).to(device)\n",
    "        generated_tokens = []\n",
    "        for t in range(max_summary_len):\n",
    "            output, hidden, cell, _ = decoder(dec_input, hidden, cell, enc_outputs)\n",
    "            top1 = output.argmax(1)\n",
    "            if top1.item() == vocab[EOS_TOKEN]:\n",
    "                break\n",
    "            generated_tokens.append(top1.item())\n",
    "            dec_input = top1\n",
    "    \n",
    "    # Convert token ids to words.\n",
    "    generated_text = \" \".join([reverse_vocab.get(idx, UNK_TOKEN) for idx in generated_tokens])\n",
    "    return generated_text"
   ]
  },
  {
   "cell_type": "code",
   "execution_count": 45,
   "id": "c56dfe55",
   "metadata": {},
   "outputs": [
    {
     "name": "stdout",
     "output_type": "stream",
     "text": [
      "Number of test records: 11490\n",
      "Testing samples: 574\n"
     ]
    },
    {
     "name": "stderr",
     "output_type": "stream",
     "text": [
      "100%|██████████| 574/574 [00:00<00:00, 22948.09it/s]\n",
      "100%|██████████| 574/574 [00:00<00:00, 5896.60it/s]\n"
     ]
    }
   ],
   "source": [
    "# ============\n",
    "# Load the Test Dataset\n",
    "# =============\n",
    "test_df = pd.read_csv('../data/cnn_dailymail/test.csv')\n",
    "print(\"Number of test records:\", len(test_df))\n",
    "\n",
    "\n",
    "# Running all the cleaning/preprocessing routines on test_df here\n",
    "test_df  = test_df.sample(frac=0.05, random_state=42).reset_index(drop=True)\n",
    "print(\"Testing samples:\", len(test_df))\n",
    "\n",
    "\n",
    "# Function to remove prefixes from the article text\n",
    "def clean_prefix(text):\n",
    "    # Remove news source prefixes (with or without location)\n",
    "    # This pattern matches an optional location (letters, spaces, commas)\n",
    "    # followed by a parenthesized news source.\n",
    "    text = re.sub(r'^(?:[\\w\\s,]+)?\\s*\\(\\s*[A-Za-z. ]+\\s*\\)\\s*', '', text)\n",
    "    \n",
    "    # Remove full publication info starting with \"By . Associated Press\" followed by publication details.\n",
    "    # The non-greedy \".*?\" will catch everything until the final period of the prefix.\n",
    "    text = re.sub(r'^By\\s*\\.\\s*Associated\\s+Press\\s*\\..*?UPDATED:\\s*\\..*?\\.\\s*', '', text, flags=re.DOTALL)\n",
    "    \n",
    "    # Remove publication info starting directly with \"PUBLISHED:\"\n",
    "    text = re.sub(r'^PUBLISHED:\\s*\\..*?UPDATED:\\s*\\..*?\\.\\s*', '', text, flags=re.DOTALL)\n",
    "\n",
    "    # Normalize whitespace\n",
    "    text = ' '.join(text.split())\n",
    "    \n",
    "    return text\n",
    "\n",
    "# Apply cleaning to articles\n",
    "test_df['article'] = test_df['article'].progress_apply(lambda x: clean_prefix(str(x)))\n",
    "\n",
    "\n",
    "# Function to clean text\n",
    "def clean_text(text):\n",
    "    # Remove HTML tags (anything between < and >)\n",
    "    text = re.sub(r'<[^>]+>', '', text)\n",
    "    \n",
    "    # Remove URLs (matches http://, https://, or www.)\n",
    "    text = re.sub(r'http\\S+|www\\.\\S+', '', text)\n",
    "    \n",
    "    # Remove newline characters (replace them with a space)\n",
    "    text = re.sub(r'\\n+', ' ', text)\n",
    "    \n",
    "    # Remove extra spaces: replace any sequence of whitespace with a single space and strip leading/trailing spaces\n",
    "    text = re.sub(r'\\s+', ' ', text).strip()\n",
    "    \n",
    "    return text\n",
    "\n",
    "# Apply cleaning to articles\n",
    "test_df['article'] = test_df['article'].progress_apply(lambda x: clean_text(str(x)))"
   ]
  },
  {
   "cell_type": "code",
   "execution_count": 46,
   "id": "fbe68893",
   "metadata": {},
   "outputs": [
    {
     "name": "stdout",
     "output_type": "stream",
     "text": [
      "Missing in articles: 0\n",
      "Missing in highlights: 0\n"
     ]
    }
   ],
   "source": [
    "# Missing value check\n",
    "print(\"Missing in articles:\", test_df['article'].isnull().sum())\n",
    "print(\"Missing in highlights:\", test_df['highlights'].isnull().sum())"
   ]
  },
  {
   "cell_type": "markdown",
   "id": "98113d3e",
   "metadata": {},
   "source": [
    "### ----- Custom LSTM with Attention -----"
   ]
  },
  {
   "cell_type": "code",
   "execution_count": 47,
   "id": "cd642765",
   "metadata": {},
   "outputs": [
    {
     "name": "stdout",
     "output_type": "stream",
     "text": [
      "Loaded LSTM with Attention model.\n"
     ]
    }
   ],
   "source": [
    "# Encoder: LSTM\n",
    "class Encoder(nn.Module):\n",
    "    def __init__(self, vocab_size, embed_dim, enc_hidden_dim):\n",
    "        super(Encoder, self).__init__()\n",
    "        self.embedding = nn.Embedding(vocab_size, embed_dim, padding_idx=vocab[PAD_TOKEN])\n",
    "        self.lstm = nn.LSTM(embed_dim, enc_hidden_dim, batch_first=True)\n",
    "    def forward(self, src_sequences):\n",
    "        # src_sequences: [batch_size, seq_len]\n",
    "        embedded = self.embedding(src_sequences)            # [batch, seq_len, embed_dim]\n",
    "        outputs, (hidden, cell) = self.lstm(embedded)       # outputs: [batch, seq_len, enc_hidden_dim]\n",
    "        # hidden: [1, batch, enc_hidden_dim] (1 layer), cell: [1, batch, enc_hidden_dim]\n",
    "        return outputs, hidden, cell\n",
    "\n",
    "# Attention module (additive attention)\n",
    "class Attention(nn.Module):\n",
    "    def __init__(self, enc_hidden_dim, dec_hidden_dim, attn_dim):\n",
    "        super(Attention, self).__init__()\n",
    "        # We create layers to compute alignment scores\n",
    "        self.attn = nn.Linear(enc_hidden_dim + dec_hidden_dim, attn_dim)\n",
    "        self.v = nn.Linear(attn_dim, 1, bias=False)\n",
    "    def forward(self, dec_hidden, enc_outputs):\n",
    "        # dec_hidden: [batch, dec_hidden_dim]\n",
    "        # enc_outputs: [batch, src_len, enc_hidden_dim]\n",
    "        batch_size = enc_outputs.size(0)\n",
    "        src_len = enc_outputs.size(1)\n",
    "        # Repeat decoder hidden state across all timesteps to concat with encoder outputs\n",
    "        dec_hidden_exp = dec_hidden.unsqueeze(1).repeat(1, src_len, 1)   # [batch, src_len, dec_hidden_dim]\n",
    "        # Concatenate decoder hidden and encoder outputs\n",
    "        concat = torch.cat((enc_outputs, dec_hidden_exp), dim=2)         # [batch, src_len, enc_hidden_dim+dec_hidden_dim]\n",
    "        # Compute energy scores\n",
    "        energy = torch.tanh(self.attn(concat))                          # [batch, src_len, attn_dim]\n",
    "        scores = self.v(energy).squeeze(2)                              # [batch, src_len]\n",
    "        # Compute attention weights\n",
    "        attn_weights = torch.softmax(scores, dim=1)                     # [batch, src_len]\n",
    "        # Weighted sum of encoder outputs\n",
    "        context = torch.bmm(attn_weights.unsqueeze(1), enc_outputs).squeeze(1)  # [batch, enc_hidden_dim]\n",
    "        return context, attn_weights\n",
    "\n",
    "# Decoder: LSTM with attention\n",
    "class Decoder(nn.Module):\n",
    "    def __init__(self, vocab_size, embed_dim, enc_hidden_dim, dec_hidden_dim, attention):\n",
    "        super(Decoder, self).__init__()\n",
    "        self.attention = attention\n",
    "        self.embedding = nn.Embedding(vocab_size, embed_dim, padding_idx=vocab[PAD_TOKEN])\n",
    "        # LSTM will take concatenated [embedded_word, context] as input features\n",
    "        self.lstm = nn.LSTM(enc_hidden_dim + embed_dim, dec_hidden_dim, batch_first=True)\n",
    "        # Output layer: takes [decoder_hidden, context, embedded_input] to predict next token\n",
    "        self.fc_out = nn.Linear(enc_hidden_dim + dec_hidden_dim + embed_dim, vocab_size)\n",
    "    def forward(self, input_token, hidden, cell, enc_outputs):\n",
    "        # input_token: [batch] (indices of current word input to decoder)\n",
    "        embedded = self.embedding(input_token).unsqueeze(1)         # [batch, 1, embed_dim]\n",
    "        # Use last hidden state of decoder (hidden is [1,batch,dec_hidden]; use hidden[0] since 1 layer)\n",
    "        dec_hidden = hidden[-1]  # [batch, dec_hidden_dim]\n",
    "        # Compute attention to get context vector\n",
    "        context, attn_weights = self.attention(dec_hidden, enc_outputs)  # context: [batch, enc_hidden_dim]\n",
    "        context = context.unsqueeze(1)                                   # [batch, 1, enc_hidden_dim]\n",
    "        # Prepare LSTM input by concatenating context with embedded current word\n",
    "        lstm_input = torch.cat((embedded, context), dim=2)          # [batch, 1, embed_dim+enc_hidden_dim]\n",
    "        output, (hidden, cell) = self.lstm(lstm_input, (hidden, cell))\n",
    "        # Now output is [batch, 1, dec_hidden_dim]\n",
    "        output = output.squeeze(1)     # [batch, dec_hidden_dim]\n",
    "        context = context.squeeze(1)   # [batch, enc_hidden_dim]\n",
    "        embedded = embedded.squeeze(1) # [batch, embed_dim]\n",
    "        # Compute final output distribution over vocabulary\n",
    "        pred_input = torch.cat((output, context, embedded), dim=1)   # [batch, enc_hidden_dim+dec_hidden_dim+embed_dim]\n",
    "        preds = self.fc_out(pred_input)                             # [batch, vocab_size]\n",
    "        return preds, hidden, cell, attn_weights\n",
    "\n",
    "\n",
    "# Reconstruct the LSTM model with the same architecture parameters as used in training:\n",
    "vocab_size = len(vocab)\n",
    "embed_dim = 128\n",
    "enc_hidden_dim = 256\n",
    "dec_hidden_dim = 256\n",
    "attn_dim = 256\n",
    "\n",
    "encoder_lstm = Encoder(vocab_size, embed_dim, enc_hidden_dim)\n",
    "attn = Attention(enc_hidden_dim, dec_hidden_dim, attn_dim)\n",
    "decoder_lstm = Decoder(vocab_size, embed_dim, enc_hidden_dim, dec_hidden_dim, attn)\n",
    "\n",
    "\n",
    "# Load the saved checkpoint (make sure the file path matches)\n",
    "checkpoint = torch.load(\"../saved_models/lstm/best_model.pth\", map_location=device)\n",
    "encoder_lstm.load_state_dict(checkpoint['encoder_state_dict'])\n",
    "decoder_lstm.load_state_dict(checkpoint['decoder_state_dict'])\n",
    "encoder_lstm.to(device)\n",
    "decoder_lstm.to(device)\n",
    "print(\"Loaded LSTM with Attention model.\")"
   ]
  },
  {
   "cell_type": "markdown",
   "id": "102ea817",
   "metadata": {},
   "source": [
    "### ----- T5-small Finetuned with LoRA -----"
   ]
  },
  {
   "cell_type": "code",
   "execution_count": 48,
   "id": "618bf524",
   "metadata": {},
   "outputs": [
    {
     "name": "stdout",
     "output_type": "stream",
     "text": [
      "Loaded T5-small LoRA model.\n"
     ]
    }
   ],
   "source": [
    "tokenizer_t5 = AutoTokenizer.from_pretrained(\"t5-small\")\n",
    "model_t5 = AutoModelForSeq2SeqLM.from_pretrained(\"../saved_models/t5-small-lora/best_model\")\n",
    "model_t5.to(device)\n",
    "print(\"Loaded T5-small LoRA model.\")\n",
    "\n",
    "def generate_summary_t5(article_text, model, tokenizer, max_input_length=512, max_output_length=128):\n",
    "    input_text = \"summarize: \" + article_text\n",
    "    inputs = tokenizer(input_text, return_tensors=\"pt\", max_length=max_input_length, truncation=True).to(device)\n",
    "    summary_ids = model.generate(inputs[\"input_ids\"], attention_mask=inputs[\"attention_mask\"], max_length=max_output_length)\n",
    "    summary = tokenizer.decode(summary_ids[0], skip_special_tokens=True)\n",
    "    return summary"
   ]
  },
  {
   "cell_type": "markdown",
   "id": "15ecc005",
   "metadata": {},
   "source": [
    "### ----- BART-large-cnn Finetuned with LoRA -----"
   ]
  },
  {
   "cell_type": "code",
   "execution_count": 49,
   "id": "14ad8099",
   "metadata": {},
   "outputs": [
    {
     "name": "stdout",
     "output_type": "stream",
     "text": [
      "Loaded BART-large-cnn LoRA model.\n"
     ]
    }
   ],
   "source": [
    "tokenizer_bart = AutoTokenizer.from_pretrained(\"facebook/bart-large-cnn\")\n",
    "model_bart = AutoModelForSeq2SeqLM.from_pretrained(\"../saved_models/bart-large-cnn-lora/best_model\")\n",
    "model_bart.to(device)\n",
    "print(\"Loaded BART-large-cnn LoRA model.\")\n",
    "\n",
    "def generate_summary_bart(article_text, model, tokenizer, max_input_length=1024, max_output_length=128):\n",
    "    inputs = tokenizer(article_text, return_tensors=\"pt\", max_length=max_input_length, truncation=True).to(device)\n",
    "    summary_ids = model.generate(inputs[\"input_ids\"], attention_mask=inputs[\"attention_mask\"], max_length=max_output_length)\n",
    "    summary = tokenizer.decode(summary_ids[0], skip_special_tokens=True)\n",
    "    return summary"
   ]
  },
  {
   "cell_type": "markdown",
   "id": "138ba42a",
   "metadata": {},
   "source": [
    "## Evaluation\n",
    "1. **ROUGE (Recall-Oriented Understudy for Gisting Evaluation):** ROUGE is a set of metrics that measure the overlap between the generated summary (candidate) and the human-written summary (reference). Summaries need to capture the important content of the original article. ROUGE effectively quantifies how much of the reference content is present in the generated summary. ROUGE is the most commonly reported metric in summarization research, so tracking it allows you to compare your system’s performance with state-of-the-art methods. Different ROUGE variants (such as ROUGE-1 vs. ROUGE-L) provide multiple perspectives on content overlap and coherence. The common variants include:\n",
    "    - ROUGE-1: Measures overlap of single words (unigrams).\n",
    "    - ROUGE-2: Measures overlap of consecutive two-word sequences (bigrams).\n",
    "    - ROUGE-L: Based on the longest common subsequence (LCS) which considers sentence-level structure in the matching process.\n",
    "2. **BLEU (Bilingual Evaluation Understudy):** BLEU is an n-gram based metric traditionally used in machine translation. It calculates the precision of n-gram overlap between the generated text and one or more references, while applying a brevity penalty to account for short outputs. Although originally designed for translation, BLEU can serve as an additional signal in summarization. It measures how precisely the generated summary matches the reference in terms of word sequences. While ROUGE focuses more on recall (what proportion of reference content is captured), BLEU emphasizes precision (how much of the generated text is relevant). This complementary view can help you balance content completeness with output fluency. It provides another quantitative measure that, together with ROUGE, can help diagnose strengths and weaknesses in your model outputs.\n",
    "3. **BERTScore:** BERTScore leverages contextual embeddings (typically from BERT or similar models) to compare candidate summaries with reference summaries. Instead of merely counting surface-level n-gram matches, it computes similarity scores based on semantic representations. The metric produces precision, recall, and F1 scores. BERTScore is less sensitive to exact word overlap and more to meaning. This is particularly useful in summarization where different wordings or synonyms may convey the same idea. Because it uses deep representations, BERTScore can capture nuances in meaning that surface-level metrics like ROUGE and BLEU might miss. Research has shown that BERTScore often correlates better with human evaluations of text quality, making it a valuable metric for assessing the overall quality of generated summaries."
   ]
  },
  {
   "cell_type": "code",
   "execution_count": 50,
   "id": "7d7825f8",
   "metadata": {},
   "outputs": [],
   "source": [
    "# Initialize the ROUGE (and other) metrics using the Hugging Face evaluate library.\n",
    "rouge_metric = evaluate.load(\"rouge\")\n",
    "bleu_metric = evaluate.load(\"bleu\")\n",
    "bertscore_metric = evaluate.load(\"bertscore\")"
   ]
  },
  {
   "cell_type": "code",
   "execution_count": 51,
   "id": "612062e5",
   "metadata": {},
   "outputs": [
    {
     "name": "stderr",
     "output_type": "stream",
     "text": [
      "Generating summaries:   0%|          | 0/574 [00:00<?, ?it/s]"
     ]
    },
    {
     "name": "stderr",
     "output_type": "stream",
     "text": [
      "Generating summaries: 100%|██████████| 574/574 [1:14:52<00:00,  7.83s/it]\n"
     ]
    }
   ],
   "source": [
    "lstm_preds = []\n",
    "t5_preds = []\n",
    "bart_preds = []\n",
    "references = []\n",
    "\n",
    "# Function to Generate summaries for the test set\n",
    "for idx, row in tqdm(test_df.iterrows(), total=len(test_df), desc=\"Generating summaries\"):\n",
    "    article = row[\"article\"]\n",
    "    reference = row[\"highlights\"]\n",
    "    references.append(reference)\n",
    "    \n",
    "    # Generate predictions.\n",
    "    lstm_prediction = generate_summary_lstm(article, encoder_lstm, decoder_lstm, MAX_ARTICLE_LEN, MAX_SUMMARY_LEN)\n",
    "    lstm_preds.append(lstm_prediction)\n",
    "    \n",
    "    t5_prediction = generate_summary_t5(article, model_t5, tokenizer_t5)\n",
    "    t5_preds.append(t5_prediction)\n",
    "    \n",
    "    bart_prediction = generate_summary_bart(article, model_bart, tokenizer_bart)\n",
    "    bart_preds.append(bart_prediction)\n",
    "\n",
    "    # # (Optional: Limit to first N examples to speed up evaluation during experimentation)\n",
    "    # if idx >= 49:  # For example, evaluate on 50 examples.\n",
    "    #     break"
   ]
  },
  {
   "cell_type": "code",
   "execution_count": 52,
   "id": "036c3a20",
   "metadata": {},
   "outputs": [
    {
     "name": "stdout",
     "output_type": "stream",
     "text": [
      "Number of references: 574\n",
      "Number of T5 predictions: 574\n",
      "Number of LSTM predictions: 574\n",
      "Number of BART predictions: 574\n"
     ]
    }
   ],
   "source": [
    "print(\"Number of references:\", len(references))\n",
    "print(\"Number of T5 predictions:\", len(t5_preds))\n",
    "print(\"Number of LSTM predictions:\", len(lstm_preds))\n",
    "print(\"Number of BART predictions:\", len(bart_preds))"
   ]
  },
  {
   "cell_type": "code",
   "execution_count": 53,
   "id": "28793f39",
   "metadata": {},
   "outputs": [
    {
     "name": "stdout",
     "output_type": "stream",
     "text": [
      "\n",
      "--- ROUGE Scores ---\n",
      "LSTM with Attention: {'rouge1': np.float64(0.021620269060809865), 'rouge2': np.float64(0.002044189955550322), 'rougeL': np.float64(0.019138499521143187), 'rougeLsum': np.float64(0.020590187108777278)}\n",
      "T5-small with LoRA: {'rouge1': np.float64(0.3837183326531864), 'rouge2': np.float64(0.17272069132985146), 'rougeL': np.float64(0.27308504156666835), 'rougeLsum': np.float64(0.33402098529494706)}\n",
      "BART-large-cnn with LoRA: {'rouge1': np.float64(0.4181146602081973), 'rouge2': np.float64(0.19283284059866396), 'rougeL': np.float64(0.27858412592712506), 'rougeLsum': np.float64(0.3888858906577949)}\n"
     ]
    }
   ],
   "source": [
    "# Compute ROUGE scores.\n",
    "rouge_lstm = rouge_metric.compute(predictions=lstm_preds, references=references)\n",
    "rouge_t5 = rouge_metric.compute(predictions=t5_preds, references=references)\n",
    "rouge_bart = rouge_metric.compute(predictions=bart_preds, references=references)\n",
    "\n",
    "print(\"\\n--- ROUGE Scores ---\")\n",
    "print(\"LSTM with Attention:\", rouge_lstm)\n",
    "print(\"T5-small with LoRA:\", rouge_t5)\n",
    "print(\"BART-large-cnn with LoRA:\", rouge_bart)"
   ]
  },
  {
   "cell_type": "code",
   "execution_count": 54,
   "id": "d192b284",
   "metadata": {},
   "outputs": [
    {
     "name": "stdout",
     "output_type": "stream",
     "text": [
      "\n",
      "--- BLEU Scores ---\n",
      "LSTM with Attention: {'bleu': 0.0, 'precisions': [0.0191115340311514, 0.0004533502584096473, 5.066523452937064e-05, 0.0], 'brevity_penalty': 1.0, 'length_ratio': 3.058670343137255, 'translation_length': 99835, 'reference_length': 32640}\n",
      "T5-small with LoRA: {'bleu': 0.14431086511629718, 'precisions': [0.4296462467644521, 0.19031020034505827, 0.114169691307004, 0.07705573698308443], 'brevity_penalty': 0.8811844134954571, 'length_ratio': 0.8877144607843137, 'translation_length': 28975, 'reference_length': 32640}\n",
      "BART-large-cnn with LoRA: {'bleu': 0.15103856715241268, 'precisions': [0.3925831839011755, 0.17721966749204104, 0.1052968926263973, 0.07103825136612021], 'brevity_penalty': 1.0, 'length_ratio': 1.2301470588235295, 'translation_length': 40152, 'reference_length': 32640}\n"
     ]
    }
   ],
   "source": [
    "# Compute BLEU scores using raw string input.\n",
    "bleu_lstm = bleu_metric.compute(predictions=lstm_preds,\n",
    "                                references=[[ref] for ref in references])\n",
    "bleu_t5 = bleu_metric.compute(predictions=t5_preds,\n",
    "                              references=[[ref] for ref in references])\n",
    "bleu_bart = bleu_metric.compute(predictions=bart_preds,\n",
    "                                references=[[ref] for ref in references])\n",
    "\n",
    "print(\"\\n--- BLEU Scores ---\")\n",
    "print(\"LSTM with Attention:\", bleu_lstm)\n",
    "print(\"T5-small with LoRA:\", bleu_t5)\n",
    "print(\"BART-large-cnn with LoRA:\", bleu_bart)"
   ]
  },
  {
   "cell_type": "code",
   "execution_count": 55,
   "id": "227e3a04",
   "metadata": {},
   "outputs": [
    {
     "name": "stderr",
     "output_type": "stream",
     "text": [
      "Some weights of RobertaModel were not initialized from the model checkpoint at roberta-large and are newly initialized: ['pooler.dense.bias', 'pooler.dense.weight']\n",
      "You should probably TRAIN this model on a down-stream task to be able to use it for predictions and inference.\n"
     ]
    },
    {
     "name": "stdout",
     "output_type": "stream",
     "text": [
      "\n",
      "--- BERTScore (F1) ---\n",
      "LSTM with Attention: 0.7286\n",
      "T5-small with LoRA: 0.8742\n",
      "BART-large-cnn with LoRA: 0.8852\n"
     ]
    }
   ],
   "source": [
    "# Compute BERTScore.\n",
    "bertscore_lstm = bertscore_metric.compute(predictions=lstm_preds, references=references, lang=\"en\")\n",
    "bertscore_t5 = bertscore_metric.compute(predictions=t5_preds, references=references, lang=\"en\")\n",
    "bertscore_bart = bertscore_metric.compute(predictions=bart_preds, references=references, lang=\"en\")\n",
    "\n",
    "print(\"\\n--- BERTScore (F1) ---\")\n",
    "print(\"LSTM with Attention: {:.4f}\".format(np.mean(bertscore_lstm[\"f1\"])))\n",
    "print(\"T5-small with LoRA: {:.4f}\".format(np.mean(bertscore_t5[\"f1\"])))\n",
    "print(\"BART-large-cnn with LoRA: {:.4f}\".format(np.mean(bertscore_bart[\"f1\"])))"
   ]
  },
  {
   "cell_type": "code",
   "execution_count": 56,
   "id": "227f6ddc",
   "metadata": {},
   "outputs": [
    {
     "data": {
      "image/png": "[encoded data removed]",
      "text/plain": [
       "<Figure size 800x600 with 1 Axes>"
      ]
     },
     "metadata": {},
     "output_type": "display_data"
    },
    {
     "data": {
      "image/png": "[encoded data removed]",
      "text/plain": [
       "<Figure size 800x600 with 1 Axes>"
      ]
     },
     "metadata": {},
     "output_type": "display_data"
    },
    {
     "data": {
      "image/png": "[encoded data removed]",
      "text/plain": [
       "<Figure size 800x600 with 1 Axes>"
      ]
     },
     "metadata": {},
     "output_type": "display_data"
    }
   ],
   "source": [
    "# Organize the metrics into dictionaries for convenience.\n",
    "rouge_scores = {\n",
    "    \"LSTM\": rouge_lstm.get(\"rougeL\", 0.0),\n",
    "    \"T5-small (LoRA)\": rouge_t5.get(\"rougeL\", 0.0),\n",
    "    \"BART-large-cnn (LoRA)\": rouge_bart.get(\"rougeL\", 0.0),\n",
    "}\n",
    "\n",
    "bleu_scores = {\n",
    "    \"LSTM\": bleu_lstm.get(\"bleu\", 0.0),\n",
    "    \"T5-small (LoRA)\": bleu_t5.get(\"bleu\", 0.0),\n",
    "    \"BART-large-cnn (LoRA)\": bleu_bart.get(\"bleu\", 0.0),\n",
    "}\n",
    "\n",
    "bertscore_scores = {\n",
    "    \"LSTM\": np.mean(bertscore_lstm[\"f1\"]),\n",
    "    \"T5-small (LoRA)\": np.mean(bertscore_t5[\"f1\"]),\n",
    "    \"BART-large-cnn (LoRA)\": np.mean(bertscore_bart[\"f1\"]),\n",
    "}\n",
    "\n",
    "# ---- Plot 1: ROUGE-L Scores ----\n",
    "plt.figure(figsize=(8,6))\n",
    "models = list(rouge_scores.keys())\n",
    "scores = list(rouge_scores.values())\n",
    "plt.bar(models, scores, color=['skyblue','lightgreen','salmon'])\n",
    "plt.title(\"ROUGE-L Score Comparison\")\n",
    "plt.ylabel(\"ROUGE-L Score\")\n",
    "plt.ylim(0, 1)\n",
    "for i, v in enumerate(scores):\n",
    "    plt.text(i, v + 0.02, f\"{v:.3f}\", ha='center', fontweight='bold')\n",
    "plt.show()\n",
    "\n",
    "# ---- Plot 2: BLEU Scores ----\n",
    "plt.figure(figsize=(8,6))\n",
    "models = list(bleu_scores.keys())\n",
    "scores = list(bleu_scores.values())\n",
    "plt.bar(models, scores, color=['skyblue','lightgreen','salmon'])\n",
    "plt.title(\"BLEU Score Comparison\")\n",
    "plt.ylabel(\"BLEU Score\")\n",
    "plt.ylim(0, 1)\n",
    "for i, v in enumerate(scores):\n",
    "    plt.text(i, v + 0.02, f\"{v:.3f}\", ha='center', fontweight='bold')\n",
    "plt.show()\n",
    "\n",
    "# ---- Plot 3: BERTScore F1 Comparison ----\n",
    "plt.figure(figsize=(8,6))\n",
    "models = list(bertscore_scores.keys())\n",
    "scores = list(bertscore_scores.values())\n",
    "plt.bar(models, scores, color=['skyblue','lightgreen','salmon'])\n",
    "plt.title(\"BERTScore F1 Comparison\")\n",
    "plt.ylabel(\"BERTScore F1\")\n",
    "plt.ylim(0, 1)\n",
    "for i, v in enumerate(scores):\n",
    "    plt.text(i, v + 0.02, f\"{v:.3f}\", ha='center', fontweight='bold')\n",
    "plt.show()"
   ]
  }
 ],
 "metadata": {
  "kernelspec": {
   "display_name": "ats-env",
   "language": "python",
   "name": "python3"
  },
  "language_info": {
   "codemirror_mode": {
    "name": "ipython",
    "version": 3
   },
   "file_extension": ".py",
   "mimetype": "text/x-python",
   "name": "python",
   "nbconvert_exporter": "python",
   "pygments_lexer": "ipython3",
   "version": "3.11.8"
  }
 },
 "nbformat": 4,
 "nbformat_minor": 5
}
