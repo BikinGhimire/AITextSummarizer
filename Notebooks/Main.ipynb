{
 "cells": [
  {
   "cell_type": "markdown",
   "id": "c9c56ba0",
   "metadata": {},
   "source": [
    "## AI Text Summarization\n",
    "\n",
    "### Data Description\n",
    "The **CNN/Daily Mail dataset** is a popular benchmark for text summarization. It consists of news articles from CNN and the Daily Mail newspapers paired with human-written summaries (called highlights). Researchers commonly use this dataset to train and evaluate summarization models, as it provides a large collection of real-world articles and reference summaries. In total, the dataset has over 300,000 article-summary pairs (about 287k for training, 13k for validation, 11k for test). Each article is a news story (multiple paragraphs long), and the corresponding highlights are a few sentences giving a brief summary of the article’s main points.\n",
    "\n",
    "For this project, the dataset is provided in three CSV files (train.csv, validation.csv, test.csv). We downloaded the data from kaggle using the kaggle API and stored it under a data/ folder. Each file has three columns: id, article, and highlights. The article is the full news text, and highlights is the summary."
   ]
  },
  {
   "cell_type": "code",
   "execution_count": 21,
   "id": "840699bd",
   "metadata": {},
   "outputs": [
    {
     "name": "stdout",
     "output_type": "stream",
     "text": [
      "Using Mac GPU (MPS)\n"
     ]
    }
   ],
   "source": [
    "# Importing the necessary libraries\n",
    "import os\n",
    "import time\n",
    "import pandas as pd\n",
    "import numpy as np\n",
    "import matplotlib.pyplot as plt\n",
    "import seaborn as sns\n",
    "import re\n",
    "from tqdm import tqdm\n",
    "from collections import Counter\n",
    "from datasets import Dataset, DatasetDict\n",
    "from transformers import AutoTokenizer, AutoModelForSeq2SeqLM, TrainingArguments, Trainer\n",
    "import torch\n",
    "import torch.nn as nn\n",
    "from torch.utils.data import DataLoader, TensorDataset\n",
    "\n",
    "# Import PEFT to use LoRA\n",
    "from peft import LoraConfig, get_peft_model, TaskType\n",
    "\n",
    "import pickle\n",
    "\n",
    "# Apply tqdm to all .apply() functions by using progress_apply\n",
    "tqdm.pandas()\n",
    "\n",
    "# Initialize tokenizers for T5 and BART\n",
    "tokenizer_t5 = AutoTokenizer.from_pretrained('t5-small')\n",
    "tokenizer_bart = AutoTokenizer.from_pretrained('facebook/bart-large-cnn')\n",
    "\n",
    "\n",
    "# Use GPU if available\n",
    "# Check for NVIDIA GPU\n",
    "if torch.cuda.is_available():\n",
    "    device = torch.device(\"cuda\")  # Use CUDA (NVIDIA GPU)\n",
    "    print(\"Using NVIDIA GPU (CUDA)\")\n",
    "# Check for Mac Silicon GPU (MPS)\n",
    "elif torch.backends.mps.is_available():\n",
    "    device = torch.device(\"mps\")  # Use Metal Performance Shaders (Mac Silicon GPU)\n",
    "    print(\"Using Mac GPU (MPS)\")\n",
    "# Default to CPU if no GPU is available\n",
    "else:\n",
    "    device = torch.device(\"cpu\")\n",
    "    print(\"Using CPU\")"
   ]
  },
  {
   "cell_type": "code",
   "execution_count": 22,
   "id": "b890ab4d",
   "metadata": {},
   "outputs": [
    {
     "name": "stdout",
     "output_type": "stream",
     "text": [
      "Training samples: 14356\n",
      "Validation samples: 668\n",
      "Testing samples: 574\n"
     ]
    },
    {
     "data": {
      "text/html": [
       "<div>\n",
       "<style scoped>\n",
       "    .dataframe tbody tr th:only-of-type {\n",
       "        vertical-align: middle;\n",
       "    }\n",
       "\n",
       "    .dataframe tbody tr th {\n",
       "        vertical-align: top;\n",
       "    }\n",
       "\n",
       "    .dataframe thead th {\n",
       "        text-align: right;\n",
       "    }\n",
       "</style>\n",
       "<table border=\"1\" class=\"dataframe\">\n",
       "  <thead>\n",
       "    <tr style=\"text-align: right;\">\n",
       "      <th></th>\n",
       "      <th>id</th>\n",
       "      <th>article</th>\n",
       "      <th>highlights</th>\n",
       "    </tr>\n",
       "  </thead>\n",
       "  <tbody>\n",
       "    <tr>\n",
       "      <th>0</th>\n",
       "      <td>ed0fed726929c1eeabe6c390e47128dbb7d7a055</td>\n",
       "      <td>By . Mia De Graaf . Britons flocked to beaches...</td>\n",
       "      <td>People enjoyed temperatures of 17C at Brighton...</td>\n",
       "    </tr>\n",
       "    <tr>\n",
       "      <th>1</th>\n",
       "      <td>023cd84001b33aed4ff0f3f5ecb0fdd2151cf543</td>\n",
       "      <td>A couple who weighed a combined 32st were sham...</td>\n",
       "      <td>Couple started piling on pounds after the birt...</td>\n",
       "    </tr>\n",
       "    <tr>\n",
       "      <th>2</th>\n",
       "      <td>6a70a0d8d3ed365fe1df6d35f1587a8b9b298618</td>\n",
       "      <td>Video footage shows the heart stopping moment ...</td>\n",
       "      <td>A 17-year-old boy suffering lacerations to his...</td>\n",
       "    </tr>\n",
       "    <tr>\n",
       "      <th>3</th>\n",
       "      <td>b37204c13ea38b511265e41ac69fb12acfb63f85</td>\n",
       "      <td>Istanbul, Turkey (CNN) -- About 250 people rac...</td>\n",
       "      <td>Syrians citizens hightail it to Turkey .\\nMost...</td>\n",
       "    </tr>\n",
       "    <tr>\n",
       "      <th>4</th>\n",
       "      <td>c24e5805afd5145bc48410e876db91d44a06be5e</td>\n",
       "      <td>By . Daily Mail Reporter . PUBLISHED: . 12:53 ...</td>\n",
       "      <td>The Xue Long had provided the helicopter that ...</td>\n",
       "    </tr>\n",
       "  </tbody>\n",
       "</table>\n",
       "</div>"
      ],
      "text/plain": [
       "                                         id  \\\n",
       "0  ed0fed726929c1eeabe6c390e47128dbb7d7a055   \n",
       "1  023cd84001b33aed4ff0f3f5ecb0fdd2151cf543   \n",
       "2  6a70a0d8d3ed365fe1df6d35f1587a8b9b298618   \n",
       "3  b37204c13ea38b511265e41ac69fb12acfb63f85   \n",
       "4  c24e5805afd5145bc48410e876db91d44a06be5e   \n",
       "\n",
       "                                             article  \\\n",
       "0  By . Mia De Graaf . Britons flocked to beaches...   \n",
       "1  A couple who weighed a combined 32st were sham...   \n",
       "2  Video footage shows the heart stopping moment ...   \n",
       "3  Istanbul, Turkey (CNN) -- About 250 people rac...   \n",
       "4  By . Daily Mail Reporter . PUBLISHED: . 12:53 ...   \n",
       "\n",
       "                                          highlights  \n",
       "0  People enjoyed temperatures of 17C at Brighton...  \n",
       "1  Couple started piling on pounds after the birt...  \n",
       "2  A 17-year-old boy suffering lacerations to his...  \n",
       "3  Syrians citizens hightail it to Turkey .\\nMost...  \n",
       "4  The Xue Long had provided the helicopter that ...  "
      ]
     },
     "execution_count": 22,
     "metadata": {},
     "output_type": "execute_result"
    }
   ],
   "source": [
    "# Load the dataset\n",
    "train_df = pd.read_csv('../data/cnn_dailymail/train.csv')\n",
    "val_df   = pd.read_csv('../data/cnn_dailymail/validation.csv')\n",
    "test_df  = pd.read_csv('../data/cnn_dailymail/test.csv')\n",
    "\n",
    "# Select 2% of the DataFrame and reset the index without inplace=True\n",
    "train_df = train_df.sample(frac=0.05, random_state=42).reset_index(drop=True)\n",
    "val_df   = val_df.sample(frac=0.05, random_state=42).reset_index(drop=True)\n",
    "test_df  = test_df.sample(frac=0.05, random_state=42).reset_index(drop=True)\n",
    "\n",
    "print(\"Training samples:\", len(train_df))\n",
    "print(\"Validation samples:\", len(val_df))\n",
    "print(\"Testing samples:\", len(test_df))\n",
    "train_df.head(5)"
   ]
  },
  {
   "cell_type": "code",
   "execution_count": 23,
   "id": "e9e9a6e9",
   "metadata": {},
   "outputs": [
    {
     "name": "stdout",
     "output_type": "stream",
     "text": [
      "Article ID: 31988bc087e6281d089b5227482720c92e600920\n",
      "Article text (truncated): By . Victoria Woollaston . PUBLISHED: . 09:29 EST, 24 October 2013 . | . UPDATED: . 09:37 EST, 24 October 2013 . The days of waiting for eBay sellers to post your purchases, and making sure you're home when they arrive, are numbered. The auction site has bought London-based courier service Shutl tha ...\n",
      "\n",
      "Reference Summary: Ebay has bought London-based superfast delivery service Shutl .\n",
      "Shutl can deliver items bought and sold in the same region within an hour .\n",
      "It has couriers that can collect and deliver in most major UK cities .\n",
      "Firm's record time is 14 minutes but buyers can select different days too .\n",
      "It already has deals with high-street stores Argos, Maplin and Warehouse .\n"
     ]
    }
   ],
   "source": [
    "# Show a sample article and its highlights (summary)\n",
    "sample = train_df.iloc[96]\n",
    "print(\"Article ID:\", sample['id'])\n",
    "print(\"Article text (truncated):\", sample['article'][:300], \"...\")\n",
    "print(\"\\nReference Summary:\", sample['highlights'])"
   ]
  },
  {
   "cell_type": "markdown",
   "id": "c2e54103",
   "metadata": {},
   "source": [
    "In the above example, the article (truncated for display) is a CNN news story, and the highlights consist of several key points from the story. The highlights are written in a few sentences in new lines. This illustrates the typical input-output pair for our summarization task: input is a long news article, output is a short summary capturing the article’s main facts."
   ]
  },
  {
   "cell_type": "markdown",
   "id": "eae8dfff",
   "metadata": {},
   "source": [
    "### Data Cleaning\n",
    "\n",
    "Real-world text data often requires cleaning before modeling. We will perform the following cleaning steps:\n",
    "- Handling Missing Values: First, check if any articles or highlights are missing (null). If so, those rows would be removed because a summarization pair with a missing text or summary is not usable.\n",
    "- Outlier Detection: Check for any extremely short or long articles/summaries that might be anomalies (for example, an article with only one sentence, or a summary that is uncharacteristically long). We might handle these on a case-by-case basis (perhaps exclude if they seem like data errors).\n",
    "- Text Preprocessing: Clean the text by standardizing case and removing unwanted characters:\n",
    "    - Convert text to lowercase (for models that are not case-sensitive, like a custom LSTM, to reduce vocabulary size).\n",
    "    - Remove or normalize special characters, digits, or extraneous symbols that don’t contribute meaning. For instance, the CNN articles often start with location strings like “(CNN) – “, which we can remove because they are not useful for summarization. We also remove any lingering HTML entities or odd punctuation.\n",
    "    - Fix spacing issues (remove extra whitespaces or newline characters within the article text). In many cases, the highlights in this dataset are separated by newline characters in the raw data; we might want to join them into a single summary string (the CSV may have already done this by putting all bullet points into one text)."
   ]
  },
  {
   "cell_type": "code",
   "execution_count": 24,
   "id": "0ddf9ad6",
   "metadata": {},
   "outputs": [
    {
     "name": "stdout",
     "output_type": "stream",
     "text": [
      "Missing in articles: 0\n",
      "Missing in highlights: 0\n"
     ]
    }
   ],
   "source": [
    "# Missing value check\n",
    "print(\"Missing in articles:\", train_df['article'].isnull().sum())\n",
    "print(\"Missing in highlights:\", train_df['highlights'].isnull().sum())"
   ]
  },
  {
   "cell_type": "code",
   "execution_count": 25,
   "id": "e34a2477",
   "metadata": {},
   "outputs": [
    {
     "name": "stderr",
     "output_type": "stream",
     "text": [
      "100%|██████████| 14356/14356 [00:00<00:00, 25981.41it/s]\n",
      "100%|██████████| 668/668 [00:00<00:00, 26699.78it/s]\n",
      "100%|██████████| 574/574 [00:00<00:00, 25782.63it/s]\n"
     ]
    }
   ],
   "source": [
    "# Function to remove prefixes from the article text\n",
    "def clean_prefix(text):\n",
    "    # Remove news source prefixes (with or without location)\n",
    "    # This pattern matches an optional location (letters, spaces, commas)\n",
    "    # followed by a parenthesized news source.\n",
    "    text = re.sub(r'^(?:[\\w\\s,]+)?\\s*\\(\\s*[A-Za-z. ]+\\s*\\)\\s*', '', text)\n",
    "    \n",
    "    # Remove full publication info starting with \"By . Associated Press\" followed by publication details.\n",
    "    # The non-greedy \".*?\" will catch everything until the final period of the prefix.\n",
    "    text = re.sub(r'^By\\s*\\.\\s*Associated\\s+Press\\s*\\..*?UPDATED:\\s*\\..*?\\.\\s*', '', text, flags=re.DOTALL)\n",
    "    \n",
    "    # Remove publication info starting directly with \"PUBLISHED:\"\n",
    "    text = re.sub(r'^PUBLISHED:\\s*\\..*?UPDATED:\\s*\\..*?\\.\\s*', '', text, flags=re.DOTALL)\n",
    "\n",
    "    # Normalize whitespace\n",
    "    text = ' '.join(text.split())\n",
    "    \n",
    "    return text\n",
    "\n",
    "# Apply cleaning to articles\n",
    "train_df['article'] = train_df['article'].progress_apply(lambda x: clean_prefix(str(x)))\n",
    "val_df['article'] = val_df['article'].progress_apply(lambda x: clean_prefix(str(x)))\n",
    "test_df['article'] = test_df['article'].progress_apply(lambda x: clean_prefix(str(x)))"
   ]
  },
  {
   "cell_type": "code",
   "execution_count": 26,
   "id": "5e150597",
   "metadata": {},
   "outputs": [
    {
     "name": "stdout",
     "output_type": "stream",
     "text": [
      "Article text (truncated): By . Victoria Woollaston . PUBLISHED: . 09:29 EST, 24 October 2013 . | . UPDATED: . 09:37 EST, 24 October 2013 . The days of waiting for eBay sellers to post your purchases, and making sure you're home when they arrive, are numbered. The auction site has bought London-based courier service Shutl tha ...\n"
     ]
    }
   ],
   "source": [
    "# Verify the removal of prefixes\n",
    "sample = train_df.iloc[96]\n",
    "print(\"Article text (truncated):\", sample['article'][:300], \"...\")"
   ]
  },
  {
   "cell_type": "code",
   "execution_count": 27,
   "id": "26dc3b85",
   "metadata": {},
   "outputs": [
    {
     "name": "stderr",
     "output_type": "stream",
     "text": [
      "100%|██████████| 14356/14356 [00:02<00:00, 6042.79it/s]\n",
      "100%|██████████| 668/668 [00:00<00:00, 5970.16it/s]\n",
      "100%|██████████| 574/574 [00:00<00:00, 5953.97it/s]\n"
     ]
    }
   ],
   "source": [
    "# Function to clean text\n",
    "def clean_text(text):\n",
    "    # Remove HTML tags (anything between < and >)\n",
    "    text = re.sub(r'<[^>]+>', '', text)\n",
    "    \n",
    "    # Remove URLs (matches http://, https://, or www.)\n",
    "    text = re.sub(r'http\\S+|www\\.\\S+', '', text)\n",
    "    \n",
    "    # Remove newline characters (replace them with a space)\n",
    "    text = re.sub(r'\\n+', ' ', text)\n",
    "    \n",
    "    # Remove extra spaces: replace any sequence of whitespace with a single space and strip leading/trailing spaces\n",
    "    text = re.sub(r'\\s+', ' ', text).strip()\n",
    "    \n",
    "    return text\n",
    "\n",
    "# Apply cleaning to articles\n",
    "train_df['article'] = train_df['article'].progress_apply(lambda x: clean_text(str(x)))\n",
    "val_df['article'] = val_df['article'].progress_apply(lambda x: clean_text(str(x)))\n",
    "test_df['article'] = test_df['article'].progress_apply(lambda x: clean_text(str(x)))"
   ]
  },
  {
   "cell_type": "markdown",
   "id": "114bf393",
   "metadata": {},
   "source": [
    "### Data Exploration\n",
    "Before building models, it’s important to explore the dataset to understand its characteristics. We will look at statistics like the length of articles vs. summaries, and visualize their distributions. This will inform decisions like truncating long articles for modeling or setting max sequence lengths."
   ]
  },
  {
   "cell_type": "code",
   "execution_count": 28,
   "id": "94de1cb4",
   "metadata": {},
   "outputs": [
    {
     "name": "stderr",
     "output_type": "stream",
     "text": [
      "100%|██████████| 14356/14356 [00:00<00:00, 42554.23it/s]\n",
      "100%|██████████| 14356/14356 [00:00<00:00, 433951.89it/s]\n"
     ]
    },
    {
     "name": "stdout",
     "output_type": "stream",
     "text": [
      "Avg article length (words): 697.5170660351073\n",
      "Avg summary length (words): 51.80614377263862\n",
      "Max article length: 1955\n",
      "Max summary length: 439\n",
      "Min article length: 20\n",
      "Min summary length: 6\n"
     ]
    },
    {
     "data": {
      "image/png": "[encoded data removed]",
      "text/plain": [
       "<Figure size 1400x600 with 2 Axes>"
      ]
     },
     "metadata": {},
     "output_type": "display_data"
    }
   ],
   "source": [
    "# Compute length (in words) of each article and summary\n",
    "train_df['article_len'] = train_df['article'].progress_apply(lambda x: len(x.split()))\n",
    "train_df['summary_len'] = train_df['highlights'].progress_apply(lambda x: len(x.split()))\n",
    "\n",
    "print(\"Avg article length (words):\", train_df['article_len'].mean())\n",
    "print(\"Avg summary length (words):\", train_df['summary_len'].mean())\n",
    "print(\"Max article length:\", train_df['article_len'].max())\n",
    "print(\"Max summary length:\", train_df['summary_len'].max())\n",
    "print(\"Min article length:\", train_df['article_len'].min())\n",
    "print(\"Min summary length:\", train_df['summary_len'].min())\n",
    "\n",
    "\n",
    "# Create subplots with 1 row and 2 columns\n",
    "fig, (ax1, ax2) = plt.subplots(nrows=1, ncols=2, figsize=(14, 6))\n",
    "\n",
    "bins = 50  # Number of bins for the histograms; adjust as needed\n",
    "\n",
    "# Plot histogram for article word lengths\n",
    "ax1.hist(train_df['article_len'], bins=bins, alpha=0.7, color='blue')\n",
    "ax1.set_title('Article Word Length Distribution')\n",
    "ax1.set_xlabel('Word Count')\n",
    "ax1.set_ylabel('Frequency')\n",
    "\n",
    "# Plot histogram for summary word lengths\n",
    "ax2.hist(train_df['summary_len'], bins=bins, alpha=0.7, color='orange')\n",
    "ax2.set_title('Summary Word Length Distribution')\n",
    "ax2.set_xlabel('Word Count')\n",
    "ax2.set_ylabel('Frequency')\n",
    "\n",
    "plt.tight_layout()  # Adjust subplots to fit into figure area.\n",
    "plt.show()"
   ]
  },
  {
   "cell_type": "markdown",
   "id": "7d269b65",
   "metadata": {},
   "source": [
    "From the histograms above, we observe that:\n",
    "- Article lengths vary greatly. Many articles cluster in the within-1000 word range, but there is a tail of longer articles approaching ~1000-1500 words or more. This variance implies our models must handle quite long inputs (and we may consider truncating very long articles due to memory limits). But, there are some articles with extremely short length. These are articles with basically missing content, and we will be removing them from our training set.\n",
    "- Summary lengths are relatively tight: most summaries are between 40 and 100 words, with a peak around 50 words. Nearly all summaries are just a few sentences. But, there are some summaries that are extremely long. We want out model to generate relatively short summaries so that we can set a reasonable maximum length for generated summaries (e.g., 150 tokens) when configuring our models."
   ]
  },
  {
   "cell_type": "markdown",
   "id": "950cad9d",
   "metadata": {},
   "source": [
    "We can also explore if there’s any correlation between article length and summary length:"
   ]
  },
  {
   "cell_type": "code",
   "execution_count": 29,
   "id": "fe7ee085",
   "metadata": {},
   "outputs": [],
   "source": [
    "# Filter the DataFrame to keep only rows where article_len is >= 40\n",
    "train_df = train_df[train_df['article_len'] >= 40].copy()\n",
    "\n",
    "# Optionally, reset the index if needed\n",
    "train_df.reset_index(drop=True, inplace=True)"
   ]
  },
  {
   "cell_type": "code",
   "execution_count": 30,
   "id": "4b3678f6",
   "metadata": {},
   "outputs": [
    {
     "data": {
      "image/png": "[encoded data removed]",
      "text/plain": [
       "<Figure size 640x480 with 1 Axes>"
      ]
     },
     "metadata": {},
     "output_type": "display_data"
    }
   ],
   "source": [
    "# Scatter plot of article length vs summary length\n",
    "plt.scatter(train_df['article_len'], train_df['summary_len'], alpha=0.2)\n",
    "plt.xlabel(\"Article Length (words)\")\n",
    "plt.ylabel(\"Summary Length (words)\")\n",
    "plt.title(\"Article vs Summary Length\")\n",
    "plt.show()"
   ]
  },
  {
   "cell_type": "markdown",
   "id": "ed43b13d",
   "metadata": {},
   "source": [
    "We see almost no correlation. The editors likely write ~3-4 highlight bullet points regardless of article length (though extremely long articles might have slightly longer summaries). Generally, summary length doesn’t increase proportionally with article length in this dataset."
   ]
  },
  {
   "cell_type": "code",
   "execution_count": 31,
   "id": "08eb3154",
   "metadata": {},
   "outputs": [
    {
     "name": "stdout",
     "output_type": "stream",
     "text": [
      "Most common words in articles: [('the', 494085), ('to', 269839), ('of', 228885), ('a', 227314), ('and', 225979), ('in', 192691), ('.', 154454), ('was', 95859), ('for', 89757), ('that', 87299)]\n",
      "Most common words in summaries: [('.', 50919), ('the', 22332), ('to', 18136), ('in', 16178), ('of', 14288), ('a', 12989), ('and', 12932), ('for', 7192), ('was', 7083), ('on', 6758)]\n"
     ]
    }
   ],
   "source": [
    "word_counts_article = Counter(\" \".join(train_df['article']).split())\n",
    "word_counts_summary = Counter(\" \".join(train_df['highlights']).split())\n",
    "print(\"Most common words in articles:\", word_counts_article.most_common(10))\n",
    "print(\"Most common words in summaries:\", word_counts_summary.most_common(10))"
   ]
  },
  {
   "cell_type": "code",
   "execution_count": 32,
   "id": "c0f282e0",
   "metadata": {},
   "outputs": [],
   "source": [
    "# Drop columns used for exploration\n",
    "train_df.drop(['article_len', 'summary_len'], axis=1, inplace=True)"
   ]
  },
  {
   "cell_type": "markdown",
   "id": "b06a48c2",
   "metadata": {},
   "source": [
    "### Feature Engineering\n",
    "\n",
    "Feature engineering for text summarization largely revolves around text tokenization and preparation. Unlike structured datasets, we don’t have numerical features to scale or one-hot encode; the “features” are the words (or subwords) in the text. We will prepare the data differently for our three modeling approaches:\n",
    "1. **Custom LSTM with Attention:** We will perform word-level tokenization and build a vocabulary dictionary for the words.\n",
    "2. **T5-small fine-tuning:** We will use Hugging Face’s tokenizer for T5 which uses a text-to-text format with subword tokens. We’ll prepend a special prefix “summarize:” to each article (as T5 was trained to expect task-specific prefixes ￼).\n",
    "3. **BART-large-cnn fine-tuning:** We will use BART’s tokenizer (which is also subword-based). BART doesn’t require a prefix for summarization; we feed the article text as input."
   ]
  },
  {
   "cell_type": "markdown",
   "id": "2c82bfc7",
   "metadata": {},
   "source": [
    "#### Tokenization and Vocabulary for LSTM\n",
    "\n",
    "For the LSTM model, we use a vocabulary of words:\n",
    "- First, we tokenize the text by splitting on whitespace (after our cleaning, punctuation like periods are attached to words, but we might treat them as separate tokens or keep them – to keep it simple, we will keep punctuation attached, except we removed weird symbols already).\n",
    "- Build a vocabulary of the most frequent words. A typical choice is to limit vocabulary size (e.g., the top 50,000 words) to handle memory and ignore extremely rare words. Words not in the vocabulary will be treated as UNK (unknown).\n",
    "- Add special tokens for PAD (padding), SOS (start-of-summary), and EOS (end-of-sequence) which our model will use. PAD is used to pad sequences to the same length in a batch; SOS and EOS will wrap target sequences so the model knows where the summary starts and ends."
   ]
  },
  {
   "cell_type": "code",
   "execution_count": 33,
   "id": "42072498",
   "metadata": {},
   "outputs": [
    {
     "name": "stdout",
     "output_type": "stream",
     "text": [
      "Total unique tokens: 336282\n",
      "Vocab size (including special tokens): 10000\n"
     ]
    }
   ],
   "source": [
    "# Tokenize all training articles and summaries\n",
    "all_article_words = []\n",
    "all_summary_words = []\n",
    "for text in train_df['article']:\n",
    "    all_article_words.extend(text.lower().split())  # using lowercased text for LSTM vocab\n",
    "for text in train_df['highlights']:\n",
    "    all_summary_words.extend(text.lower().split())\n",
    "\n",
    "# Count frequencies\n",
    "word_freq = Counter(all_article_words + all_summary_words)\n",
    "print(\"Total unique tokens:\", len(word_freq))\n",
    "\n",
    "# Define a vocab size limit (to ignore rare words)\n",
    "vocab_size = 10000\n",
    "most_common = word_freq.most_common(vocab_size-4)  # minus 4 to leave space for special tokens\n",
    "vocab_words = [w for w, _ in most_common]\n",
    "\n",
    "# Create word to index mapping\n",
    "PAD_TOKEN, SOS_TOKEN, EOS_TOKEN, UNK_TOKEN = \"<PAD>\", \"<SOS>\", \"<EOS>\", \"<UNK>\"\n",
    "vocab = {PAD_TOKEN: 0, SOS_TOKEN: 1, EOS_TOKEN: 2, UNK_TOKEN: 3}\n",
    "for i, word in enumerate(vocab_words, start=4):\n",
    "    vocab[word] = i\n",
    "\n",
    "print(\"Vocab size (including special tokens):\", len(vocab))\n",
    "\n",
    "# Save the vocab dictionary to a file named 'vocab.pkl'\n",
    "with open('../saved_models/lstm/vocab.pkl', 'wb') as f:\n",
    "    pickle.dump(vocab, f)"
   ]
  },
  {
   "cell_type": "markdown",
   "id": "820d4083",
   "metadata": {},
   "source": [
    "Next, we convert each article and summary in our dataset to a sequence of integers (token indices) using this vocabulary. We will also pad or truncate sequences to a fixed length for batching:\n",
    "- For articles, we might choose a max length of 400 for the LSTM. This is a trade-off: covering as much content as possible vs. not making sequences too long for the model. In many research works, 400 tokens is a common cutoff for CNN/DM summarization with RNNs (since including the entire article might not improve summary quality beyond a point, and 400 covers most content).\n",
    "- For summaries (targets), a max length of 100 tokens is sufficient as we saw in exploration that summaries are usually < 100 words. We will pad them to a fixed length as well for convenience (and use EOS to mark actual end)."
   ]
  },
  {
   "cell_type": "code",
   "execution_count": 14,
   "id": "08e985db",
   "metadata": {},
   "outputs": [],
   "source": [
    "MAX_ARTICLE_LEN = 400   # chosen cutoff for LSTM encoder\n",
    "MAX_SUMMARY_LEN = 100   # chosen max for summary (including SOS/EOS)\n",
    "\n",
    "def text_to_sequence(text, max_len, add_eos=False):\n",
    "    words = text.lower().split()\n",
    "    if add_eos:\n",
    "        words = words + [EOS_TOKEN]  # append EOS\n",
    "    # Truncate if too long\n",
    "    if len(words) > max_len:\n",
    "        words = words[:max_len]\n",
    "        if add_eos and words[-1] != EOS_TOKEN:\n",
    "            words[-1] = EOS_TOKEN  # ensure it ends with EOS if truncated\n",
    "    # Convert to ids, use UNK if not in vocab\n",
    "    seq = [vocab.get(w, vocab[UNK_TOKEN]) for w in words]\n",
    "    # Pad sequence to max_len with PAD token\n",
    "    if len(seq) < max_len:\n",
    "        seq += [vocab[PAD_TOKEN]] * (max_len - len(seq))\n",
    "    return seq\n",
    "\n",
    "# Convert and pad all sets\n",
    "train_articles_seq = np.array([text_to_sequence(txt, MAX_ARTICLE_LEN, add_eos=False) \n",
    "                               for txt in train_df['article']])\n",
    "train_summaries_seq = np.array([text_to_sequence(SOS_TOKEN + \" \" + txt, MAX_SUMMARY_LEN, add_eos=True) \n",
    "                                for txt in train_df['highlights']])"
   ]
  },
  {
   "cell_type": "markdown",
   "id": "c7b9f02a",
   "metadata": {},
   "source": [
    "In the code above, for summaries we did SOS_TOKEN + \" \" + txt and add_eos=True. This means each summary sequence starts with SOS and ends with EOS, with padding after EOS if needed. The model will be trained to output everything up to but not including EOS token. For articles, we did not add any special token (the encoder will process the raw article words, possibly truncated/padded)."
   ]
  },
  {
   "cell_type": "markdown",
   "id": "97f050ce",
   "metadata": {},
   "source": [
    "#### Tokenization for T5 and BART\n",
    "For the transformer models (T5 and BART), we will leverage Hugging Face’s transformers library, which provides ready-made subword tokenizers and model architectures. These tokenizers handle details like splitting words into subword pieces (especially useful for rare words or proper nouns) and adding special tokens that the models expect.\n",
    "\n",
    "**T5 Tokenization:** T5 is a text-to-text model, and by convention, we prepend \"summarize: \" to the input text to indicate a summarization task ￼. We’ll use the T5Tokenizer (or AutoTokenizer) which will:\n",
    "- Encode the input article (with the prefix) into a sequence of token IDs.\n",
    "- Encode the target summary into token IDs.\n",
    "\n",
    "T5 uses its own special tokens like <pad> and <eos> internally (the tokenizer will handle those; in T5, the end-of-sequence is typically the <\\sep> token or just the end-of-sentence token). We will specify a maximum length for inputs (e.g., 512 tokens for T5-small to save memory) and outputs (e.g., 128 tokens for summary). The tokenizer can automatically truncate longer texts and pad shorter ones.\n",
    "\n",
    "**BART Tokenization:** BART’s tokenizer will similarly encode the article and summary. BART-large can handle up to 1024 tokens in the encoder. We will likely use that as max length (or slightly less if memory is an issue on our hardware). BART uses <s> as start and </s> as end-of-sequence tokens automatically.\n",
    "\n",
    "We will prepare the data for these models."
   ]
  },
  {
   "cell_type": "code",
   "execution_count": 15,
   "id": "f95fa367",
   "metadata": {},
   "outputs": [],
   "source": [
    "# Define tokenization function for T5\n",
    "def tokenize_for_t5(example):\n",
    "    article_text = example['article']\n",
    "    summary_text = example['highlights']\n",
    "    # Add T5 prefix\n",
    "    input_text = \"summarize: \" + article_text\n",
    "    # Encode article\n",
    "    inputs = tokenizer_t5(input_text, max_length=512, truncation=True, padding=\"max_length\")\n",
    "    # Encode summary as target\n",
    "    labels = tokenizer_t5(summary_text, max_length=128, truncation=True, padding=\"max_length\")\n",
    "    # Important: replace padding token id in labels with -100 so they are ignored in loss\n",
    "    labels_ids = labels[\"input_ids\"]\n",
    "    labels_ids = [(-100 if token_id == tokenizer_t5.pad_token_id else token_id) for token_id in labels_ids]\n",
    "    return {\"input_ids\": inputs[\"input_ids\"], \"attention_mask\": inputs[\"attention_mask\"], \"labels\": labels_ids}\n",
    "\n",
    "# Define tokenization function for BART\n",
    "def tokenize_for_bart(example):\n",
    "    article_text = example['article']\n",
    "    summary_text = example['highlights']\n",
    "    # Encode article (BART's tokenizer will add <s> and </s> tokens as needed)\n",
    "    inputs = tokenizer_bart(article_text, max_length=1024, truncation=True, padding=\"max_length\")\n",
    "    # Encode summary\n",
    "    labels = tokenizer_bart(summary_text, max_length=128, truncation=True, padding=\"max_length\")\n",
    "    # Mask out padding in labels for loss computation\n",
    "    labels_ids = labels[\"input_ids\"]\n",
    "    labels_ids = [(-100 if token_id == tokenizer_bart.pad_token_id else token_id) for token_id in labels_ids]\n",
    "    return {\"input_ids\": inputs[\"input_ids\"], \"attention_mask\": inputs[\"attention_mask\"], \"labels\": labels_ids}"
   ]
  },
  {
   "cell_type": "code",
   "execution_count": 16,
   "id": "00759c1b",
   "metadata": {},
   "outputs": [
    {
     "name": "stdout",
     "output_type": "stream",
     "text": [
      "Dataset splits: DatasetDict({\n",
      "    train: Dataset({\n",
      "        features: ['id', 'article', 'highlights'],\n",
      "        num_rows: 14355\n",
      "    })\n",
      "    validation: Dataset({\n",
      "        features: ['id', 'article', 'highlights'],\n",
      "        num_rows: 668\n",
      "    })\n",
      "    test: Dataset({\n",
      "        features: ['id', 'article', 'highlights'],\n",
      "        num_rows: 574\n",
      "    })\n",
      "})\n",
      "Example record from training set:\n",
      "{'id': 'ed0fed726929c1eeabe6c390e47128dbb7d7a055', 'article': \"By . Mia De Graaf . Britons flocked to beaches across the southern coast yesterday as millions look set to bask in glorious sunshine today. Temperatures soared to 17C in Brighton and Dorset, with people starting their long weekend in deck chairs by the sea. Figures from Asda suggest the unexpected sunshine has also inspired a wave of impromptu barbecues, with sales of sausages and equipment expected to triple those in April. Sun's out: Brighton beach was packed with Britons enjoying the unexpected sunshine to start the long weekend as temperatures hit 17C across the south coast . Although frost is set to hit the south tonight - with temperatures dropping to 1C - Britons stocking up for a barbecue will be in luck tomorrow, with forecasters predicting dry and sunny weather across southern England, southern Wales and the south Midlands. In Weymouth, Dorset, the sun came out in time for the town's annual kite festival, held on the beach. But the good weather has not been enjoyed by all as heavy rain poured down across the north west. Unfortunately, the dark clouds and intermittent rain across northern England and Scotland is set to last throughout the long weekend and into Tuesday. However, the north east enjoyed a bright spell at midday today with sun shining in Harrogate and York ahead of the rainy weekend. Met Office spokesman Helen Roberts told MailOnline: 'It hasn't been great for the whole country - it's been a story of two halves. Crowds took to deckchairs to see in the Bank Holiday weekend on Brighton beach - while rain and clouds swept the country up north . Frost and temperatures of 1C are forecast to hit southern England tonight, but those planning a barbecue can bank on a dry, sunny day tomorrow . According to the Met Office, today's temperatures in Brighton were not unusual for this time of year, but it follows a windy and wet spell . 'The best of the sunshine has been . towards to south and south east, and further north there's been a lot of . cloud and outbreaks of rain. Tomorrow will be a similar picture. 'These temperatures are about . average for this time of the year. We might see 17C tomorrow but not . much higher. 'The most unusual thing is overnight minimum temperatures, which are really going to be quite low. We're looking at a touch of air frost tonight in places in the south, where there will be clear skies. That's not common for May.' Tonight, cloud and drizzle . is expected to cast over northern and western areas of the country, with . heavier bursts of rain in Scotland. Summer time: Many took to the sun wearing bikinis and sarongs for the first weekend as Britons gear themselves up for summer . Activity: The sun came out in time for the opening day of Weymouth Kite Festival, which sees people from all over come to show off creative kites . Three day forecast: Tomorrow sunny spells and warm weather is set to cover southern England, but the heavy rain up north is set to stay . Southern and eastern England looks set to remain dry,clear, and mild, despite cold temperatures in East Anglia. The intermittent rain and cloud currently sweeping across the north is set to last throughout Sunday, Monday and Tuesday. Cloud . and rain will spread into northern and western parts of the country on . Bank Holiday Monday, with heavy rain in the evening. Apart from a few showers, southern and central parts of England should be largely dry with some warm sunshine breaking through. Though rain poured down in the north west, the north east enjoyed a bright spell at midday today with sun shining in Harrogate (pictured) ahead of the rainy weekend . Walkers took to Harrogate's parks as the sun came out for a short time in the town but cloud is predicted for tomorrow .\", 'highlights': 'People enjoyed temperatures of 17C at Brighton beach in West Sussex and Weymouth in Dorset .\\nAsda claims it will sell a million sausages over long weekend despite night temperatures dropping to minus 1C .\\nBut the good weather has not been enjoyed by all as the north west and Scotland have seen heavy rain .'}\n"
     ]
    }
   ],
   "source": [
    "# Convert your Pandas DataFrames to Hugging Face Datasets.\n",
    "train_dataset = Dataset.from_pandas(train_df)\n",
    "val_dataset = Dataset.from_pandas(val_df)\n",
    "test_dataset = Dataset.from_pandas(test_df)\n",
    "\n",
    "# Combine into a DatasetDict.\n",
    "dataset = DatasetDict({\n",
    "    \"train\": train_dataset,\n",
    "    \"validation\": val_dataset,\n",
    "    \"test\": test_dataset\n",
    "})\n",
    "\n",
    "# Verify the dataset structure.\n",
    "print(\"Dataset splits:\", dataset)\n",
    "print(\"Example record from training set:\")\n",
    "print(dataset[\"train\"][0])"
   ]
  },
  {
   "cell_type": "code",
   "execution_count": 17,
   "id": "a9672ea1",
   "metadata": {},
   "outputs": [
    {
     "name": "stderr",
     "output_type": "stream",
     "text": [
      "Map: 100%|██████████| 14355/14355 [00:53<00:00, 267.32 examples/s]\n",
      "Map: 100%|██████████| 668/668 [00:02<00:00, 283.71 examples/s]\n",
      "Map: 100%|██████████| 574/574 [00:02<00:00, 203.19 examples/s]"
     ]
    },
    {
     "name": "stdout",
     "output_type": "stream",
     "text": [
      "Example tokenized record:\n",
      "{'input_ids': tensor([21603,    10,   938,     3,     5,  2133,     9,   374,     3,  4744,\n",
      "            9,    89,     3,     5,  7834,  8057,     3,    89, 11863,    12,\n",
      "         9252,   640,     8,  7518,  4939,  4981,    38,  4040,   320,   356,\n",
      "           12,  3905,   157,    16, 18020, 18275,   469,     5, 12579,    15,\n",
      "            7,     3, 14266,    26,    12,  1003,   254,    16, 25080,    11,\n",
      "         6200,  2244,     6,    28,   151,  1684,    70,   307,  1851,    16,\n",
      "         3854,  6406,    57,     8,  2805,     5,  7996,     7,    45,   282,\n",
      "           26,     9,  3130,     8,  7544, 18275,    65,    92,  3555,     3,\n",
      "            9,  6772,    13,     3, 16260,  1167,    17,    76, 17621,     7,\n",
      "            6,    28,  1085,    13, 18567,     7,    11,  1277,  1644,    12,\n",
      "        12063,   273,    16,  1186,     5,  3068,    31,     7,    91,    10,\n",
      "        25080,  2608,    47,  7614,    28,  7834,  8057,  5889,     8,  7544,\n",
      "        18275,    12,   456,     8,   307,  1851,    38,  7902,  1560,  1003,\n",
      "          254,   640,     8,  3414,  4939,     3,     5,  1875,  2515,  3481,\n",
      "           19,   356,    12,  1560,     8,  3414,  8988,     3,    18,    28,\n",
      "         7902, 14087,    12,   209,   254,     3,    18,  7834,  8057,  1519,\n",
      "           53,    95,    21,     3,     9, 17621,    56,    36,    16,  5851,\n",
      "         5721,     6,    28,  7555,   277,     3, 29856,  2192,    11, 13546,\n",
      "         1969,   640,  7518,  2789,     6,  7518, 10256,    11,     8,  3414,\n",
      "        24914,     7,     5,    86,   101,    63, 11975,     6,  6200,  2244,\n",
      "            6,     8,  1997,   764,    91,    16,    97,    21,     8,  1511,\n",
      "           31,     7,  2041,  3650,    15,  3994,     6,  1213,    30,     8,\n",
      "         2608,     5,   299,     8,   207,  1969,    65,    59,   118,  2994,\n",
      "           57,    66,    38,  2437,  3412,     3, 22929,   323,   640,     8,\n",
      "         3457,  4653,     5,  4877,     6,     8,  2164, 15328,    11, 27688,\n",
      "         3412,   640,  8390,  2789,    11,  8288,    19,   356,    12,   336,\n",
      "         1019,     8,   307,  1851,    11,   139,  2818,     5,   611,     6,\n",
      "            8,  3457,  5727,  2994,     3,     9,  2756, 10783,    44,  2076,\n",
      "         1135,   469,    28,  1997, 23215,    16,  3504,  3822,   342,    11,\n",
      "         1060,  2177,    13,     8,  3412,    63,  1851,     5,  8146,  2126,\n",
      "            3,     7, 18461, 12249,  2715,     7,  1219,  9614, 24227,    10,\n",
      "            3,    31,   196,    17,    65,    29,    31,    17,   118,   248,\n",
      "           21,     8,   829,   684,     3,    18,    34,    31,     7,   118,\n",
      "            3,     9,   733,    13,   192,  4244,  8391,     5, 15343,    26,\n",
      "            7,   808,    12,  3854, 15657,     7,    12,   217,    16,     8,\n",
      "         1925,  9108,  1851,    30, 25080,  2608,     3,    18,   298,  3412,\n",
      "           11, 15328,     3, 23426,     8,   684,    95,  3457,     3,     5,\n",
      "        22657,    11,  7902,    13,   209,   254,    33,  7555,    12,  1560,\n",
      "         7518,  2789,  8988,     6,    68,   273,  1459,     3,     9, 17621,\n",
      "           54,  2137,    30,     3,     9,  2192,     6, 13546,   239,  5721,\n",
      "            3,     5,  2150,    12,     8,  8146,  2126,     6,   469,    31,\n",
      "            7,  7902,    16, 25080,   130,    59,  7225,    21,    48,    97,\n",
      "           13,   215,     6,    68,    34,  6963,     3,     9,  2943,    63,\n",
      "           11,    62,    17, 10783,     3,     5,     3,    31,   634,   200,\n",
      "           13,     8, 18275,    65,   118,     3,     5,  1587,    12,  3414,\n",
      "           11,  3414,  5727,     6,    11,   856,  3457,   132,    31,     7,\n",
      "          118,     3,     9,   418,    13,     3,     5,  3126,    11, 22494,\n",
      "            7,    13,  3412,     5, 22365,    56,    36,     3,     9,  1126,\n",
      "         1554,     5,     3,    31, 20347,  7902,    33,    81,     3,     5,\n",
      "         1348,    21,    48,    97,    13,     8,   215,     5,   101,   429,\n",
      "          217,  1003,   254,  5721,    68,    59,     3,     5,   231,  1146,\n",
      "            5,     1]), 'attention_mask': tensor([1, 1, 1, 1, 1, 1, 1, 1, 1, 1, 1, 1, 1, 1, 1, 1, 1, 1, 1, 1, 1, 1, 1, 1,\n",
      "        1, 1, 1, 1, 1, 1, 1, 1, 1, 1, 1, 1, 1, 1, 1, 1, 1, 1, 1, 1, 1, 1, 1, 1,\n",
      "        1, 1, 1, 1, 1, 1, 1, 1, 1, 1, 1, 1, 1, 1, 1, 1, 1, 1, 1, 1, 1, 1, 1, 1,\n",
      "        1, 1, 1, 1, 1, 1, 1, 1, 1, 1, 1, 1, 1, 1, 1, 1, 1, 1, 1, 1, 1, 1, 1, 1,\n",
      "        1, 1, 1, 1, 1, 1, 1, 1, 1, 1, 1, 1, 1, 1, 1, 1, 1, 1, 1, 1, 1, 1, 1, 1,\n",
      "        1, 1, 1, 1, 1, 1, 1, 1, 1, 1, 1, 1, 1, 1, 1, 1, 1, 1, 1, 1, 1, 1, 1, 1,\n",
      "        1, 1, 1, 1, 1, 1, 1, 1, 1, 1, 1, 1, 1, 1, 1, 1, 1, 1, 1, 1, 1, 1, 1, 1,\n",
      "        1, 1, 1, 1, 1, 1, 1, 1, 1, 1, 1, 1, 1, 1, 1, 1, 1, 1, 1, 1, 1, 1, 1, 1,\n",
      "        1, 1, 1, 1, 1, 1, 1, 1, 1, 1, 1, 1, 1, 1, 1, 1, 1, 1, 1, 1, 1, 1, 1, 1,\n",
      "        1, 1, 1, 1, 1, 1, 1, 1, 1, 1, 1, 1, 1, 1, 1, 1, 1, 1, 1, 1, 1, 1, 1, 1,\n",
      "        1, 1, 1, 1, 1, 1, 1, 1, 1, 1, 1, 1, 1, 1, 1, 1, 1, 1, 1, 1, 1, 1, 1, 1,\n",
      "        1, 1, 1, 1, 1, 1, 1, 1, 1, 1, 1, 1, 1, 1, 1, 1, 1, 1, 1, 1, 1, 1, 1, 1,\n",
      "        1, 1, 1, 1, 1, 1, 1, 1, 1, 1, 1, 1, 1, 1, 1, 1, 1, 1, 1, 1, 1, 1, 1, 1,\n",
      "        1, 1, 1, 1, 1, 1, 1, 1, 1, 1, 1, 1, 1, 1, 1, 1, 1, 1, 1, 1, 1, 1, 1, 1,\n",
      "        1, 1, 1, 1, 1, 1, 1, 1, 1, 1, 1, 1, 1, 1, 1, 1, 1, 1, 1, 1, 1, 1, 1, 1,\n",
      "        1, 1, 1, 1, 1, 1, 1, 1, 1, 1, 1, 1, 1, 1, 1, 1, 1, 1, 1, 1, 1, 1, 1, 1,\n",
      "        1, 1, 1, 1, 1, 1, 1, 1, 1, 1, 1, 1, 1, 1, 1, 1, 1, 1, 1, 1, 1, 1, 1, 1,\n",
      "        1, 1, 1, 1, 1, 1, 1, 1, 1, 1, 1, 1, 1, 1, 1, 1, 1, 1, 1, 1, 1, 1, 1, 1,\n",
      "        1, 1, 1, 1, 1, 1, 1, 1, 1, 1, 1, 1, 1, 1, 1, 1, 1, 1, 1, 1, 1, 1, 1, 1,\n",
      "        1, 1, 1, 1, 1, 1, 1, 1, 1, 1, 1, 1, 1, 1, 1, 1, 1, 1, 1, 1, 1, 1, 1, 1,\n",
      "        1, 1, 1, 1, 1, 1, 1, 1, 1, 1, 1, 1, 1, 1, 1, 1, 1, 1, 1, 1, 1, 1, 1, 1,\n",
      "        1, 1, 1, 1, 1, 1, 1, 1]), 'labels': tensor([ 2449,  2994,  7902,    13,  1003,   254,    44, 25080,  2608,    16,\n",
      "         1244, 27214,    11,   101,    63, 11975,    16,  6200,  2244,     3,\n",
      "            5,   282,    26,     9,  3213,    34,    56,  1789,     3,     9,\n",
      "          770, 18567,     7,   147,   307,  1851,     3,  3565,   706,  7902,\n",
      "        14087,    12,     3, 14078,   209,   254,     3,     5,   299,     8,\n",
      "          207,  1969,    65,    59,   118,  2994,    57,    66,    38,     8,\n",
      "         3457,  4653,    11,  8288,    43,   894,  2437,  3412,     3,     5,\n",
      "            1,  -100,  -100,  -100,  -100,  -100,  -100,  -100,  -100,  -100,\n",
      "         -100,  -100,  -100,  -100,  -100,  -100,  -100,  -100,  -100,  -100,\n",
      "         -100,  -100,  -100,  -100,  -100,  -100,  -100,  -100,  -100,  -100,\n",
      "         -100,  -100,  -100,  -100,  -100,  -100,  -100,  -100,  -100,  -100,\n",
      "         -100,  -100,  -100,  -100,  -100,  -100,  -100,  -100,  -100,  -100,\n",
      "         -100,  -100,  -100,  -100,  -100,  -100,  -100,  -100])}\n"
     ]
    },
    {
     "name": "stderr",
     "output_type": "stream",
     "text": [
      "\n"
     ]
    }
   ],
   "source": [
    "# Initialize the T5-small tokenizer.\n",
    "tokenizer_t5 = AutoTokenizer.from_pretrained(\"t5-small\")\n",
    "\n",
    "# Apply the tokenization function to all splits in the dataset.\n",
    "t5_tokenized_datasets = dataset.map(tokenize_for_t5, batched=False)\n",
    "\n",
    "# Remove the original text columns ('id', 'article', 'highlights')\n",
    "columns_to_remove = [\"id\", \"article\", \"highlights\"]\n",
    "t5_tokenized_datasets = t5_tokenized_datasets.remove_columns(columns_to_remove)\n",
    "\n",
    "# Set the dataset format to PyTorch tensors.\n",
    "t5_tokenized_datasets.set_format(\"torch\")\n",
    "\n",
    "# Print an example tokenized record from the training set.\n",
    "print(\"Example tokenized record:\")\n",
    "print(t5_tokenized_datasets[\"train\"][0])"
   ]
  },
  {
   "cell_type": "code",
   "execution_count": 18,
   "id": "76683433",
   "metadata": {},
   "outputs": [
    {
     "name": "stderr",
     "output_type": "stream",
     "text": [
      "Map: 100%|██████████| 14355/14355 [00:38<00:00, 372.45 examples/s]\n",
      "Map: 100%|██████████| 668/668 [00:01<00:00, 407.87 examples/s]\n",
      "Map: 100%|██████████| 574/574 [00:01<00:00, 401.08 examples/s]"
     ]
    },
    {
     "name": "stdout",
     "output_type": "stream",
     "text": [
      "Example tokenized record:\n",
      "{'input_ids': tensor([   0, 2765,  479,  ...,    1,    1,    1]), 'attention_mask': tensor([1, 1, 1,  ..., 0, 0, 0]), 'labels': tensor([    0,  4763,  3776,  3971,     9,   601,   347,    23, 11946,  4105,\n",
      "           11,   580, 11799,     8,   166,  8307, 15617,    11,   211, 30057,\n",
      "          479, 50118,  1620,  6106,  1449,    24,    40,  1331,    10,   153,\n",
      "         2241,   687,  3443,    81,   251,   983,  1135,   363,  3971,  6614,\n",
      "            7, 10877,   112,   347,   479, 50118,  1708,     5,   205,  1650,\n",
      "           34,    45,    57,  3776,    30,    70,    25,     5,  1926,  3072,\n",
      "            8,  3430,    33,   450,  2016,  1895,   479,     2,  -100,  -100,\n",
      "         -100,  -100,  -100,  -100,  -100,  -100,  -100,  -100,  -100,  -100,\n",
      "         -100,  -100,  -100,  -100,  -100,  -100,  -100,  -100,  -100,  -100,\n",
      "         -100,  -100,  -100,  -100,  -100,  -100,  -100,  -100,  -100,  -100,\n",
      "         -100,  -100,  -100,  -100,  -100,  -100,  -100,  -100,  -100,  -100,\n",
      "         -100,  -100,  -100,  -100,  -100,  -100,  -100,  -100,  -100,  -100,\n",
      "         -100,  -100,  -100,  -100,  -100,  -100,  -100,  -100])}\n"
     ]
    },
    {
     "name": "stderr",
     "output_type": "stream",
     "text": [
      "\n"
     ]
    }
   ],
   "source": [
    "# Initialize the bart-large-cnn tokenizer.\n",
    "tokenizer_bart = AutoTokenizer.from_pretrained(\"facebook/bart-large-cnn\")\n",
    "\n",
    "# Apply the tokenization function to all splits in the dataset.\n",
    "bart_tokenized_datasets = dataset.map(tokenize_for_bart, batched=False)\n",
    "\n",
    "# Remove the original text columns ('id', 'article', 'highlights')\n",
    "columns_to_remove = [\"id\", \"article\", \"highlights\"]\n",
    "bart_tokenized_datasets = bart_tokenized_datasets.remove_columns(columns_to_remove)\n",
    "\n",
    "# Set the dataset format to PyTorch tensors.\n",
    "bart_tokenized_datasets.set_format(\"torch\")\n",
    "\n",
    "# Print an example tokenized record from the training set.\n",
    "print(\"Example tokenized record:\")\n",
    "print(bart_tokenized_datasets[\"train\"][0])"
   ]
  },
  {
   "cell_type": "markdown",
   "id": "5a0d3a45",
   "metadata": {},
   "source": [
    "### Model Building\n",
    "We will build and train three models for summarization:\n",
    "1. LSTM with Attention (from scratch in PyTorch) – an encoder-decoder architecture using LSTM layers and a custom attention mechanism.\n",
    "2. T5-small (60M param transformer) – using a pre-trained model from Hugging Face, fine-tuned on our dataset.\n",
    "3. BART-large-cnn (406M param transformer) – using a pre-trained BART model fine-tuned on CNN/DailyMail (we will fine-tune it further or at least use it on our data)."
   ]
  },
  {
   "cell_type": "markdown",
   "id": "53def926",
   "metadata": {},
   "source": [
    "#### LSTM with Attention"
   ]
  },
  {
   "cell_type": "code",
   "execution_count": 50,
   "id": "fecdb426",
   "metadata": {},
   "outputs": [],
   "source": [
    "# Encoder: LSTM\n",
    "class Encoder(nn.Module):\n",
    "    def __init__(self, vocab_size, embed_dim, enc_hidden_dim):\n",
    "        super(Encoder, self).__init__()\n",
    "        self.embedding = nn.Embedding(vocab_size, embed_dim, padding_idx=vocab[PAD_TOKEN])\n",
    "        self.lstm = nn.LSTM(embed_dim, enc_hidden_dim, batch_first=True)\n",
    "    def forward(self, src_sequences):\n",
    "        # src_sequences: [batch_size, seq_len]\n",
    "        embedded = self.embedding(src_sequences)            # [batch, seq_len, embed_dim]\n",
    "        outputs, (hidden, cell) = self.lstm(embedded)       # outputs: [batch, seq_len, enc_hidden_dim]\n",
    "        # hidden: [1, batch, enc_hidden_dim] (1 layer), cell: [1, batch, enc_hidden_dim]\n",
    "        return outputs, hidden, cell\n",
    "\n",
    "# Attention module (additive attention)\n",
    "class Attention(nn.Module):\n",
    "    def __init__(self, enc_hidden_dim, dec_hidden_dim, attn_dim):\n",
    "        super(Attention, self).__init__()\n",
    "        # We create layers to compute alignment scores\n",
    "        self.attn = nn.Linear(enc_hidden_dim + dec_hidden_dim, attn_dim)\n",
    "        self.v = nn.Linear(attn_dim, 1, bias=False)\n",
    "    def forward(self, dec_hidden, enc_outputs):\n",
    "        # dec_hidden: [batch, dec_hidden_dim]\n",
    "        # enc_outputs: [batch, src_len, enc_hidden_dim]\n",
    "        batch_size = enc_outputs.size(0)\n",
    "        src_len = enc_outputs.size(1)\n",
    "        # Repeat decoder hidden state across all timesteps to concat with encoder outputs\n",
    "        dec_hidden_exp = dec_hidden.unsqueeze(1).repeat(1, src_len, 1)   # [batch, src_len, dec_hidden_dim]\n",
    "        # Concatenate decoder hidden and encoder outputs\n",
    "        concat = torch.cat((enc_outputs, dec_hidden_exp), dim=2)         # [batch, src_len, enc_hidden_dim+dec_hidden_dim]\n",
    "        # Compute energy scores\n",
    "        energy = torch.tanh(self.attn(concat))                          # [batch, src_len, attn_dim]\n",
    "        scores = self.v(energy).squeeze(2)                              # [batch, src_len]\n",
    "        # Compute attention weights\n",
    "        attn_weights = torch.softmax(scores, dim=1)                     # [batch, src_len]\n",
    "        # Weighted sum of encoder outputs\n",
    "        context = torch.bmm(attn_weights.unsqueeze(1), enc_outputs).squeeze(1)  # [batch, enc_hidden_dim]\n",
    "        return context, attn_weights\n",
    "\n",
    "# Decoder: LSTM with attention\n",
    "class Decoder(nn.Module):\n",
    "    def __init__(self, vocab_size, embed_dim, enc_hidden_dim, dec_hidden_dim, attention):\n",
    "        super(Decoder, self).__init__()\n",
    "        self.attention = attention\n",
    "        self.embedding = nn.Embedding(vocab_size, embed_dim, padding_idx=vocab[PAD_TOKEN])\n",
    "        # LSTM will take concatenated [embedded_word, context] as input features\n",
    "        self.lstm = nn.LSTM(enc_hidden_dim + embed_dim, dec_hidden_dim, batch_first=True)\n",
    "        # Output layer: takes [decoder_hidden, context, embedded_input] to predict next token\n",
    "        self.fc_out = nn.Linear(enc_hidden_dim + dec_hidden_dim + embed_dim, vocab_size)\n",
    "    def forward(self, input_token, hidden, cell, enc_outputs):\n",
    "        # input_token: [batch] (indices of current word input to decoder)\n",
    "        embedded = self.embedding(input_token).unsqueeze(1)         # [batch, 1, embed_dim]\n",
    "        # Use last hidden state of decoder (hidden is [1,batch,dec_hidden]; use hidden[0] since 1 layer)\n",
    "        dec_hidden = hidden[-1]  # [batch, dec_hidden_dim]\n",
    "        # Compute attention to get context vector\n",
    "        context, attn_weights = self.attention(dec_hidden, enc_outputs)  # context: [batch, enc_hidden_dim]\n",
    "        context = context.unsqueeze(1)                                   # [batch, 1, enc_hidden_dim]\n",
    "        # Prepare LSTM input by concatenating context with embedded current word\n",
    "        lstm_input = torch.cat((embedded, context), dim=2)          # [batch, 1, embed_dim+enc_hidden_dim]\n",
    "        output, (hidden, cell) = self.lstm(lstm_input, (hidden, cell))\n",
    "        # Now output is [batch, 1, dec_hidden_dim]\n",
    "        output = output.squeeze(1)     # [batch, dec_hidden_dim]\n",
    "        context = context.squeeze(1)   # [batch, enc_hidden_dim]\n",
    "        embedded = embedded.squeeze(1) # [batch, embed_dim]\n",
    "        # Compute final output distribution over vocabulary\n",
    "        pred_input = torch.cat((output, context, embedded), dim=1)   # [batch, enc_hidden_dim+dec_hidden_dim+embed_dim]\n",
    "        preds = self.fc_out(pred_input)                             # [batch, vocab_size]\n",
    "        return preds, hidden, cell, attn_weights"
   ]
  },
  {
   "cell_type": "code",
   "execution_count": 51,
   "id": "ba38ab7e",
   "metadata": {},
   "outputs": [
    {
     "data": {
      "text/plain": [
       "Decoder(\n",
       "  (attention): Attention(\n",
       "    (attn): Linear(in_features=512, out_features=256, bias=True)\n",
       "    (v): Linear(in_features=256, out_features=1, bias=False)\n",
       "  )\n",
       "  (embedding): Embedding(10000, 128, padding_idx=0)\n",
       "  (lstm): LSTM(384, 256, batch_first=True)\n",
       "  (fc_out): Linear(in_features=640, out_features=10000, bias=True)\n",
       ")"
      ]
     },
     "execution_count": 51,
     "metadata": {},
     "output_type": "execute_result"
    }
   ],
   "source": [
    "# Set dimensions and instantiate models\n",
    "vocab_size = len(vocab)\n",
    "embed_dim = 128\n",
    "enc_hidden_dim = 256\n",
    "dec_hidden_dim = 256\n",
    "attn_dim = 256\n",
    "\n",
    "encoder = Encoder(vocab_size, embed_dim, enc_hidden_dim)\n",
    "attn = Attention(enc_hidden_dim, dec_hidden_dim, attn_dim)\n",
    "decoder = Decoder(vocab_size, embed_dim, enc_hidden_dim, dec_hidden_dim, attn)\n",
    "\n",
    "# Move to device\n",
    "encoder.to(device)\n",
    "decoder.to(device)"
   ]
  },
  {
   "cell_type": "code",
   "execution_count": 52,
   "id": "787bceeb",
   "metadata": {},
   "outputs": [
    {
     "name": "stdout",
     "output_type": "stream",
     "text": [
      "Epoch 1/10 - Loss: 6.1674\n",
      "Best model saved with loss 6.1674\n",
      "Epoch 2/10 - Loss: 5.7698\n",
      "Best model saved with loss 5.7698\n",
      "Epoch 3/10 - Loss: 5.5457\n",
      "Best model saved with loss 5.5457\n",
      "Epoch 4/10 - Loss: 5.3852\n",
      "Best model saved with loss 5.3852\n",
      "Epoch 5/10 - Loss: 5.2505\n",
      "Best model saved with loss 5.2505\n",
      "Epoch 6/10 - Loss: 5.1244\n",
      "Best model saved with loss 5.1244\n",
      "Epoch 7/10 - Loss: 5.0035\n",
      "Best model saved with loss 5.0035\n",
      "Epoch 8/10 - Loss: 4.8860\n",
      "Best model saved with loss 4.8860\n",
      "Epoch 9/10 - Loss: 4.7695\n",
      "Best model saved with loss 4.7695\n",
      "Epoch 10/10 - Loss: 4.6685\n",
      "Best model saved with loss 4.6685\n"
     ]
    },
    {
     "data": {
      "image/png": "[encoded data removed]",
      "text/plain": [
       "<Figure size 800x500 with 1 Axes>"
      ]
     },
     "metadata": {},
     "output_type": "display_data"
    }
   ],
   "source": [
    "# Create folder if it doesn't exist\n",
    "model_save_path = \"../saved_models/lstm/\"\n",
    "os.makedirs(model_save_path, exist_ok=True)\n",
    "\n",
    "# Convert your preprocessed sequences (train_articles_seq & train_summaries_seq) to torch tensors.\n",
    "train_articles_tensor = torch.tensor(train_articles_seq, dtype=torch.long)\n",
    "train_summaries_tensor = torch.tensor(train_summaries_seq, dtype=torch.long)\n",
    "\n",
    "# Create a Dataset and DataLoader.\n",
    "train_dataset_lstm = TensorDataset(train_articles_tensor, train_summaries_tensor)\n",
    "batch_size = 32   # you can adjust batch size as needed\n",
    "train_loader = DataLoader(train_dataset_lstm, batch_size=batch_size, shuffle=True)\n",
    "\n",
    "# Define loss function and optimizer.\n",
    "# Note: We ignore the PAD tokens (using vocab[PAD_TOKEN]) when computing loss.\n",
    "criterion = nn.CrossEntropyLoss(ignore_index=vocab[PAD_TOKEN])\n",
    "optimizer = torch.optim.Adam(list(encoder.parameters()) + list(decoder.parameters()), lr=0.001)\n",
    "\n",
    "# Set number of training epochs and teacher forcing ratio.\n",
    "num_epochs = 10\n",
    "teacher_forcing_ratio = 0.5   # chance to use teacher forcing at each time step\n",
    "\n",
    "training_losses = []\n",
    "best_loss = float(\"inf\")\n",
    "\n",
    "# Training loop for the Encoder-Decoder with attention.\n",
    "for epoch in range(num_epochs):\n",
    "    encoder.train()\n",
    "    decoder.train()\n",
    "    epoch_loss = 0\n",
    "    num_batches = len(train_loader)\n",
    "    \n",
    "    for src_batch, trg_batch in train_loader:\n",
    "        src_batch, trg_batch = src_batch.to(device), trg_batch.to(device)  # [batch_size, seq_len]\n",
    "        optimizer.zero_grad()\n",
    "        \n",
    "        # Run the encoder\n",
    "        enc_outputs, hidden, cell = encoder(src_batch)\n",
    "        batch_size_current = src_batch.size(0)\n",
    "        trg_seq_len = trg_batch.size(1)\n",
    "        \n",
    "        # Prepare a placeholder for storing all decoder outputs.\n",
    "        outputs_all = torch.zeros(batch_size_current, trg_seq_len, vocab_size).to(device)\n",
    "        \n",
    "        # Set the first input to the decoder with SOS token (already added at index 0 in each summary).\n",
    "        dec_input = trg_batch[:, 0]  # shape: [batch_size]\n",
    "        \n",
    "        # For each time step in the target sequence (skipping index 0)\n",
    "        for t in range(1, trg_seq_len):\n",
    "            # Forward pass through the decoder.\n",
    "            output, hidden, cell, attn_weights = decoder(dec_input, hidden, cell, enc_outputs)\n",
    "            # Store current time-step predictions.\n",
    "            outputs_all[:, t, :] = output\n",
    "            \n",
    "            # Decide whether to use teacher forcing.\n",
    "            teacher_force = np.random.random() < teacher_forcing_ratio\n",
    "            # The token to feed at next time step: the true token (teacher forcing) or the predicted token.\n",
    "            top1 = output.argmax(1)  # [batch_size]\n",
    "            dec_input = trg_batch[:, t] if teacher_force else top1\n",
    "        \n",
    "        # Compute loss. We skip the first token (index 0) since that’s our initial SOS token.\n",
    "        loss = criterion(outputs_all[:, 1:, :].reshape(-1, vocab_size),\n",
    "                          trg_batch[:, 1:].reshape(-1))\n",
    "        loss.backward()\n",
    "        optimizer.step()\n",
    "        epoch_loss += loss.item()\n",
    "    \n",
    "    avg_loss = epoch_loss / num_batches\n",
    "    training_losses.append(avg_loss)\n",
    "    print(f\"Epoch {epoch+1}/{num_epochs} - Loss: {avg_loss:.4f}\")\n",
    "    \n",
    "    # Save the model if this epoch produced a new best loss.\n",
    "    if avg_loss < best_loss:\n",
    "        best_loss = avg_loss\n",
    "        checkpoint = {\n",
    "            'encoder_state_dict': encoder.state_dict(),\n",
    "            'decoder_state_dict': decoder.state_dict(),\n",
    "            'optimizer_state_dict': optimizer.state_dict(),\n",
    "            'loss': best_loss,\n",
    "        }\n",
    "        torch.save(checkpoint, os.path.join(model_save_path, \"best_model.pth\"))\n",
    "        print(f\"Best model saved with loss {best_loss:.4f}\")\n",
    "\n",
    "# Plot the training loss curve.\n",
    "plt.figure(figsize=(8, 5))\n",
    "plt.plot(range(1, num_epochs+1), training_losses, marker='o', label='Training Loss')\n",
    "plt.xlabel('Epoch')\n",
    "plt.ylabel('Loss')\n",
    "plt.title('Training Loss Over Epochs')\n",
    "plt.legend()\n",
    "plt.show()"
   ]
  },
  {
   "cell_type": "markdown",
   "id": "c140e146",
   "metadata": {},
   "source": [
    "#### T5-Base Tuning with Lora"
   ]
  },
  {
   "cell_type": "code",
   "execution_count": 47,
   "id": "dc2b7549",
   "metadata": {},
   "outputs": [
    {
     "name": "stdout",
     "output_type": "stream",
     "text": [
      "\n",
      "*** Applying LoRA to T5-small ***\n",
      "trainable params: 589,824 || all params: 61,096,448 || trainable%: 0.9654\n"
     ]
    }
   ],
   "source": [
    "# -------------------------\n",
    "# Apply LoRA to T5-small model\n",
    "# -------------------------\n",
    "print(\"\\n*** Applying LoRA to T5-small ***\")\n",
    "lora_config_t5 = LoraConfig(\n",
    "    task_type=TaskType.SEQ_2_SEQ_LM,\n",
    "    r=16,                      # Lower rank to reduce parameter count\n",
    "    lora_alpha=16,            # Scaling factor for LoRA weights\n",
    "    lora_dropout=0.1,         # Dropout probability for robustness\n",
    "    target_modules=[\"q\", \"v\"] # Targeting query and value projection layers\n",
    ")\n",
    "model_t5 = AutoModelForSeq2SeqLM.from_pretrained(\"t5-small\")\n",
    "# Wrap the model with LoRA adapters.\n",
    "model_t5 = get_peft_model(model_t5, lora_config_t5)\n",
    "model_t5.to(device)\n",
    "# Optionally print trainable parameter info.\n",
    "model_t5.print_trainable_parameters()"
   ]
  },
  {
   "cell_type": "code",
   "execution_count": 49,
   "id": "67049e62",
   "metadata": {},
   "outputs": [
    {
     "name": "stderr",
     "output_type": "stream",
     "text": [
      "/var/folders/m7/0mpffhzd33gczk0zczkvl6p40000gn/T/ipykernel_68515/1068786084.py:18: FutureWarning: `tokenizer` is deprecated and will be removed in version 5.0.0 for `Trainer.__init__`. Use `processing_class` instead.\n",
      "  trainer_t5 = Trainer(\n",
      "No label_names provided for model class `PeftModelForSeq2SeqLM`. Since `PeftModel` hides base models input arguments, if label_names is not given, label_names can't be set automatically within `Trainer`. Note that empty label_names list will be used instead.\n"
     ]
    },
    {
     "name": "stdout",
     "output_type": "stream",
     "text": [
      "Starting LoRA training for T5-small...\n"
     ]
    },
    {
     "data": {
      "text/html": [
       "\n",
       "    <div>\n",
       "      \n",
       "      <progress value='143550' max='143550' style='width:300px; height:20px; vertical-align: middle;'></progress>\n",
       "      [143550/143550 7:18:51, Epoch 10/10]\n",
       "    </div>\n",
       "    <table border=\"1\" class=\"dataframe\">\n",
       "  <thead>\n",
       " <tr style=\"text-align: left;\">\n",
       "      <th>Step</th>\n",
       "      <th>Training Loss</th>\n",
       "    </tr>\n",
       "  </thead>\n",
       "  <tbody>\n",
       "    <tr>\n",
       "      <td>14355</td>\n",
       "      <td>2.086300</td>\n",
       "    </tr>\n",
       "    <tr>\n",
       "      <td>28710</td>\n",
       "      <td>2.054100</td>\n",
       "    </tr>\n",
       "    <tr>\n",
       "      <td>43065</td>\n",
       "      <td>2.046800</td>\n",
       "    </tr>\n",
       "    <tr>\n",
       "      <td>57420</td>\n",
       "      <td>2.040800</td>\n",
       "    </tr>\n",
       "    <tr>\n",
       "      <td>71775</td>\n",
       "      <td>2.035300</td>\n",
       "    </tr>\n",
       "    <tr>\n",
       "      <td>86130</td>\n",
       "      <td>2.033800</td>\n",
       "    </tr>\n",
       "    <tr>\n",
       "      <td>100485</td>\n",
       "      <td>2.030900</td>\n",
       "    </tr>\n",
       "    <tr>\n",
       "      <td>114840</td>\n",
       "      <td>2.028500</td>\n",
       "    </tr>\n",
       "    <tr>\n",
       "      <td>129195</td>\n",
       "      <td>2.027300</td>\n",
       "    </tr>\n",
       "    <tr>\n",
       "      <td>143550</td>\n",
       "      <td>2.024800</td>\n",
       "    </tr>\n",
       "  </tbody>\n",
       "</table><p>"
      ],
      "text/plain": [
       "<IPython.core.display.HTML object>"
      ]
     },
     "metadata": {},
     "output_type": "display_data"
    },
    {
     "name": "stderr",
     "output_type": "stream",
     "text": [
      "/Users/bikinghimire/.pyenv/versions/3.11.8/envs/ats-env/lib/python3.11/site-packages/peft/utils/other.py:1107: UserWarning: Unable to fetch remote file due to the following error (ReadTimeoutError(\"HTTPSConnectionPool(host='huggingface.co', port=443): Read timed out. (read timeout=10)\"), '(Request ID: 1c07cbd6-1f3b-4c02-9efa-1648d580c343)') - silently ignoring the lookup for the file config.json in t5-small.\n",
      "  warnings.warn(\n",
      "/Users/bikinghimire/.pyenv/versions/3.11.8/envs/ats-env/lib/python3.11/site-packages/peft/utils/save_and_load.py:236: UserWarning: Could not find a config file in t5-small - will assume that the vocabulary was not modified.\n",
      "  warnings.warn(\n",
      "/Users/bikinghimire/.pyenv/versions/3.11.8/envs/ats-env/lib/python3.11/site-packages/peft/utils/other.py:1107: UserWarning: Unable to fetch remote file due to the following error (MaxRetryError('HTTPSConnectionPool(host=\\'huggingface.co\\', port=443): Max retries exceeded with url: /t5-small/resolve/main/config.json (Caused by NameResolutionError(\"<urllib3.connection.HTTPSConnection object at 0x384b19a50>: Failed to resolve \\'huggingface.co\\' ([Errno 8] nodename nor servname provided, or not known)\"))'), '(Request ID: 078e16ca-b935-4f27-9e3b-965387e39edc)') - silently ignoring the lookup for the file config.json in t5-small.\n",
      "  warnings.warn(\n",
      "/Users/bikinghimire/.pyenv/versions/3.11.8/envs/ats-env/lib/python3.11/site-packages/peft/utils/save_and_load.py:236: UserWarning: Could not find a config file in t5-small - will assume that the vocabulary was not modified.\n",
      "  warnings.warn(\n",
      "/Users/bikinghimire/.pyenv/versions/3.11.8/envs/ats-env/lib/python3.11/site-packages/peft/utils/other.py:1107: UserWarning: Unable to fetch remote file due to the following error (MaxRetryError('HTTPSConnectionPool(host=\\'huggingface.co\\', port=443): Max retries exceeded with url: /t5-small/resolve/main/config.json (Caused by NameResolutionError(\"<urllib3.connection.HTTPSConnection object at 0x3816c4350>: Failed to resolve \\'huggingface.co\\' ([Errno 8] nodename nor servname provided, or not known)\"))'), '(Request ID: 3bbab963-1d7a-487b-993a-3e28c2b46740)') - silently ignoring the lookup for the file config.json in t5-small.\n",
      "  warnings.warn(\n",
      "/Users/bikinghimire/.pyenv/versions/3.11.8/envs/ats-env/lib/python3.11/site-packages/peft/utils/save_and_load.py:236: UserWarning: Could not find a config file in t5-small - will assume that the vocabulary was not modified.\n",
      "  warnings.warn(\n",
      "/Users/bikinghimire/.pyenv/versions/3.11.8/envs/ats-env/lib/python3.11/site-packages/peft/utils/other.py:1107: UserWarning: Unable to fetch remote file due to the following error (MaxRetryError('HTTPSConnectionPool(host=\\'huggingface.co\\', port=443): Max retries exceeded with url: /t5-small/resolve/main/config.json (Caused by NameResolutionError(\"<urllib3.connection.HTTPSConnection object at 0x38147d590>: Failed to resolve \\'huggingface.co\\' ([Errno 8] nodename nor servname provided, or not known)\"))'), '(Request ID: 6e6f046f-83da-4e7d-85f6-eb608ef0ba6b)') - silently ignoring the lookup for the file config.json in t5-small.\n",
      "  warnings.warn(\n",
      "/Users/bikinghimire/.pyenv/versions/3.11.8/envs/ats-env/lib/python3.11/site-packages/peft/utils/save_and_load.py:236: UserWarning: Could not find a config file in t5-small - will assume that the vocabulary was not modified.\n",
      "  warnings.warn(\n",
      "/Users/bikinghimire/.pyenv/versions/3.11.8/envs/ats-env/lib/python3.11/site-packages/peft/utils/other.py:1107: UserWarning: Unable to fetch remote file due to the following error (MaxRetryError('HTTPSConnectionPool(host=\\'huggingface.co\\', port=443): Max retries exceeded with url: /t5-small/resolve/main/config.json (Caused by NameResolutionError(\"<urllib3.connection.HTTPSConnection object at 0x3815e5590>: Failed to resolve \\'huggingface.co\\' ([Errno 8] nodename nor servname provided, or not known)\"))'), '(Request ID: 6c844ab5-fea9-4606-86e5-0be6ef17535e)') - silently ignoring the lookup for the file config.json in t5-small.\n",
      "  warnings.warn(\n",
      "/Users/bikinghimire/.pyenv/versions/3.11.8/envs/ats-env/lib/python3.11/site-packages/peft/utils/save_and_load.py:236: UserWarning: Could not find a config file in t5-small - will assume that the vocabulary was not modified.\n",
      "  warnings.warn(\n",
      "/Users/bikinghimire/.pyenv/versions/3.11.8/envs/ats-env/lib/python3.11/site-packages/peft/utils/other.py:1107: UserWarning: Unable to fetch remote file due to the following error (MaxRetryError('HTTPSConnectionPool(host=\\'huggingface.co\\', port=443): Max retries exceeded with url: /t5-small/resolve/main/config.json (Caused by NameResolutionError(\"<urllib3.connection.HTTPSConnection object at 0x3868f4350>: Failed to resolve \\'huggingface.co\\' ([Errno 8] nodename nor servname provided, or not known)\"))'), '(Request ID: 1e0541c6-3fca-4bc0-90fd-882efb25d00b)') - silently ignoring the lookup for the file config.json in t5-small.\n",
      "  warnings.warn(\n",
      "/Users/bikinghimire/.pyenv/versions/3.11.8/envs/ats-env/lib/python3.11/site-packages/peft/utils/save_and_load.py:236: UserWarning: Could not find a config file in t5-small - will assume that the vocabulary was not modified.\n",
      "  warnings.warn(\n",
      "/Users/bikinghimire/.pyenv/versions/3.11.8/envs/ats-env/lib/python3.11/site-packages/peft/utils/other.py:1107: UserWarning: Unable to fetch remote file due to the following error (MaxRetryError('HTTPSConnectionPool(host=\\'huggingface.co\\', port=443): Max retries exceeded with url: /t5-small/resolve/main/config.json (Caused by NameResolutionError(\"<urllib3.connection.HTTPSConnection object at 0x3860275d0>: Failed to resolve \\'huggingface.co\\' ([Errno 8] nodename nor servname provided, or not known)\"))'), '(Request ID: 197ea425-8f9a-4556-b9fc-3109885997b4)') - silently ignoring the lookup for the file config.json in t5-small.\n",
      "  warnings.warn(\n",
      "/Users/bikinghimire/.pyenv/versions/3.11.8/envs/ats-env/lib/python3.11/site-packages/peft/utils/save_and_load.py:236: UserWarning: Could not find a config file in t5-small - will assume that the vocabulary was not modified.\n",
      "  warnings.warn(\n",
      "/Users/bikinghimire/.pyenv/versions/3.11.8/envs/ats-env/lib/python3.11/site-packages/peft/utils/other.py:1107: UserWarning: Unable to fetch remote file due to the following error (MaxRetryError('HTTPSConnectionPool(host=\\'huggingface.co\\', port=443): Max retries exceeded with url: /t5-small/resolve/main/config.json (Caused by NameResolutionError(\"<urllib3.connection.HTTPSConnection object at 0x381568390>: Failed to resolve \\'huggingface.co\\' ([Errno 8] nodename nor servname provided, or not known)\"))'), '(Request ID: ecf4e1a4-fe0a-49ae-8389-05d9fff202fb)') - silently ignoring the lookup for the file config.json in t5-small.\n",
      "  warnings.warn(\n",
      "/Users/bikinghimire/.pyenv/versions/3.11.8/envs/ats-env/lib/python3.11/site-packages/peft/utils/save_and_load.py:236: UserWarning: Could not find a config file in t5-small - will assume that the vocabulary was not modified.\n",
      "  warnings.warn(\n",
      "/Users/bikinghimire/.pyenv/versions/3.11.8/envs/ats-env/lib/python3.11/site-packages/peft/utils/other.py:1107: UserWarning: Unable to fetch remote file due to the following error (MaxRetryError('HTTPSConnectionPool(host=\\'huggingface.co\\', port=443): Max retries exceeded with url: /t5-small/resolve/main/config.json (Caused by NameResolutionError(\"<urllib3.connection.HTTPSConnection object at 0x384b70e10>: Failed to resolve \\'huggingface.co\\' ([Errno 8] nodename nor servname provided, or not known)\"))'), '(Request ID: dbdc070d-18f5-4157-a442-682837ecb33e)') - silently ignoring the lookup for the file config.json in t5-small.\n",
      "  warnings.warn(\n",
      "/Users/bikinghimire/.pyenv/versions/3.11.8/envs/ats-env/lib/python3.11/site-packages/peft/utils/save_and_load.py:236: UserWarning: Could not find a config file in t5-small - will assume that the vocabulary was not modified.\n",
      "  warnings.warn(\n",
      "/Users/bikinghimire/.pyenv/versions/3.11.8/envs/ats-env/lib/python3.11/site-packages/peft/utils/other.py:1107: UserWarning: Unable to fetch remote file due to the following error (MaxRetryError('HTTPSConnectionPool(host=\\'huggingface.co\\', port=443): Max retries exceeded with url: /t5-small/resolve/main/config.json (Caused by NameResolutionError(\"<urllib3.connection.HTTPSConnection object at 0x382f25b90>: Failed to resolve \\'huggingface.co\\' ([Errno 8] nodename nor servname provided, or not known)\"))'), '(Request ID: d77a388f-a701-4cbf-be38-b87a0b8685f3)') - silently ignoring the lookup for the file config.json in t5-small.\n",
      "  warnings.warn(\n",
      "/Users/bikinghimire/.pyenv/versions/3.11.8/envs/ats-env/lib/python3.11/site-packages/peft/utils/save_and_load.py:236: UserWarning: Could not find a config file in t5-small - will assume that the vocabulary was not modified.\n",
      "  warnings.warn(\n"
     ]
    },
    {
     "name": "stdout",
     "output_type": "stream",
     "text": [
      "T5-small with LoRA best model saved at: ../saved_models/t5-small-lora/best_model\n"
     ]
    }
   ],
   "source": [
    "# For T5-small with LoRA:\n",
    "model_save_dir_t5 = \"../saved_models/t5-small-lora/\"\n",
    "os.makedirs(model_save_dir_t5, exist_ok=True)\n",
    "\n",
    "training_args_t5 = TrainingArguments(\n",
    "    output_dir=model_save_dir_t5,\n",
    "    num_train_epochs=10,\n",
    "    per_device_train_batch_size=1,\n",
    "    per_device_eval_batch_size=1,\n",
    "    warmup_steps=100,\n",
    "    weight_decay=0.01,\n",
    "    logging_dir=\"./logs\",\n",
    "    logging_steps=500,\n",
    "    logging_strategy=\"epoch\",\n",
    "    bf16=True if torch.backends.mps.is_available() else False,\n",
    ")\n",
    "\n",
    "trainer_t5 = Trainer(\n",
    "    model=model_t5,\n",
    "    args=training_args_t5,\n",
    "    train_dataset=t5_tokenized_datasets[\"train\"],\n",
    "    eval_dataset=t5_tokenized_datasets[\"validation\"],\n",
    "    tokenizer=tokenizer_t5,\n",
    ")\n",
    "\n",
    "print(\"Starting LoRA training for T5-small...\")\n",
    "train_result_t5 = trainer_t5.train()\n",
    "save_path_t5 = os.path.join(model_save_dir_t5, \"best_model\")\n",
    "trainer_t5.save_model(save_path_t5)\n",
    "print(\"T5-small with LoRA best model saved at:\", save_path_t5)"
   ]
  },
  {
   "cell_type": "markdown",
   "id": "95dc4fd9",
   "metadata": {},
   "source": [
    "#### Bart-large-cnn Tuning with LoRA"
   ]
  },
  {
   "cell_type": "code",
   "execution_count": 19,
   "id": "dfc92adc",
   "metadata": {},
   "outputs": [
    {
     "name": "stdout",
     "output_type": "stream",
     "text": [
      "\n",
      "*** Applying LoRA to BART-large-cnn ***\n",
      "trainable params: 2,359,296 || all params: 408,649,728 || trainable%: 0.5773\n"
     ]
    }
   ],
   "source": [
    "# -------------------------\n",
    "# Apply LoRA to BART-large-cnn model\n",
    "# -------------------------\n",
    "print(\"\\n*** Applying LoRA to BART-large-cnn ***\")\n",
    "lora_config_bart = LoraConfig(\n",
    "    task_type=TaskType.SEQ_2_SEQ_LM,\n",
    "    r=16,                         # Using a low rank for efficiency\n",
    "    lora_alpha=16,                # Scaling factor for LoRA weights\n",
    "    lora_dropout=0.1,\n",
    "    target_modules=[\"q_proj\", \"v_proj\"]  # Targeting attention projection layers\n",
    ")\n",
    "model_bart = AutoModelForSeq2SeqLM.from_pretrained(\"facebook/bart-large-cnn\")\n",
    "# Wrap the model with LoRA adapters.\n",
    "model_bart = get_peft_model(model_bart, lora_config_bart)\n",
    "model_bart.to(device)\n",
    "model_bart.print_trainable_parameters()"
   ]
  },
  {
   "cell_type": "code",
   "execution_count": 20,
   "id": "1062e349",
   "metadata": {},
   "outputs": [
    {
     "name": "stderr",
     "output_type": "stream",
     "text": [
      "/var/folders/m7/0mpffhzd33gczk0zczkvl6p40000gn/T/ipykernel_46889/1361567102.py:18: FutureWarning: `tokenizer` is deprecated and will be removed in version 5.0.0 for `Trainer.__init__`. Use `processing_class` instead.\n",
      "  trainer_bart = Trainer(\n",
      "No label_names provided for model class `PeftModelForSeq2SeqLM`. Since `PeftModel` hides base models input arguments, if label_names is not given, label_names can't be set automatically within `Trainer`. Note that empty label_names list will be used instead.\n"
     ]
    },
    {
     "name": "stdout",
     "output_type": "stream",
     "text": [
      "Starting LoRA training for BART-large-cnn...\n"
     ]
    },
    {
     "data": {
      "text/html": [
       "\n",
       "    <div>\n",
       "      \n",
       "      <progress value='43065' max='43065' style='width:300px; height:20px; vertical-align: middle;'></progress>\n",
       "      [43065/43065 6:54:06, Epoch 3/3]\n",
       "    </div>\n",
       "    <table border=\"1\" class=\"dataframe\">\n",
       "  <thead>\n",
       " <tr style=\"text-align: left;\">\n",
       "      <th>Step</th>\n",
       "      <th>Training Loss</th>\n",
       "    </tr>\n",
       "  </thead>\n",
       "  <tbody>\n",
       "    <tr>\n",
       "      <td>14355</td>\n",
       "      <td>1.631200</td>\n",
       "    </tr>\n",
       "    <tr>\n",
       "      <td>28710</td>\n",
       "      <td>1.342200</td>\n",
       "    </tr>\n",
       "    <tr>\n",
       "      <td>43065</td>\n",
       "      <td>1.317800</td>\n",
       "    </tr>\n",
       "  </tbody>\n",
       "</table><p>"
      ],
      "text/plain": [
       "<IPython.core.display.HTML object>"
      ]
     },
     "metadata": {},
     "output_type": "display_data"
    },
    {
     "name": "stdout",
     "output_type": "stream",
     "text": [
      "BART-large-cnn with LoRA best model saved at: ../saved_models/bart-large-cnn-lora/best_model\n"
     ]
    }
   ],
   "source": [
    "# For BART-large-cnn with LoRA:\n",
    "model_save_dir_bart = \"../saved_models/bart-large-cnn-lora/\"\n",
    "os.makedirs(model_save_dir_bart, exist_ok=True)\n",
    "\n",
    "training_args_bart = TrainingArguments(\n",
    "    output_dir=model_save_dir_bart,\n",
    "    num_train_epochs=3,\n",
    "    per_device_train_batch_size=1,\n",
    "    per_device_eval_batch_size=1,\n",
    "    warmup_steps=100,\n",
    "    weight_decay=0.01,\n",
    "    logging_dir=\"./logs\",\n",
    "    logging_steps=50000,\n",
    "    logging_strategy=\"epoch\",\n",
    "    bf16=True if torch.backends.mps.is_available() else False,\n",
    ")\n",
    "\n",
    "trainer_bart = Trainer(\n",
    "    model=model_bart,\n",
    "    args=training_args_bart,\n",
    "    train_dataset=bart_tokenized_datasets[\"train\"],\n",
    "    eval_dataset=bart_tokenized_datasets[\"validation\"],\n",
    "    tokenizer=tokenizer_bart,\n",
    ")\n",
    "\n",
    "print(\"Starting LoRA training for BART-large-cnn...\")\n",
    "train_result_bart = trainer_bart.train()\n",
    "save_path_bart = os.path.join(model_save_dir_bart, \"best_model\")\n",
    "trainer_bart.save_model(save_path_bart)\n",
    "print(\"BART-large-cnn with LoRA best model saved at:\", save_path_bart)"
   ]
  }
 ],
 "metadata": {
  "kernelspec": {
   "display_name": "ats-env",
   "language": "python",
   "name": "python3"
  },
  "language_info": {
   "codemirror_mode": {
    "name": "ipython",
    "version": 3
   },
   "file_extension": ".py",
   "mimetype": "text/x-python",
   "name": "python",
   "nbconvert_exporter": "python",
   "pygments_lexer": "ipython3",
   "version": "3.11.8"
  }
 },
 "nbformat": 4,
 "nbformat_minor": 5
}
